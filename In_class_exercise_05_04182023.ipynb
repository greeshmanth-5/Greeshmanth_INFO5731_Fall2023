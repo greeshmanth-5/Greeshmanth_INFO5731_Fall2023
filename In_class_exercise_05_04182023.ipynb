{
  "cells": [
    {
      "cell_type": "markdown",
      "metadata": {
        "id": "view-in-github",
        "colab_type": "text"
      },
      "source": [
        "<a href=\"https://colab.research.google.com/github/greeshmanth-5/Greeshmanth_INFO5731_Fall2023/blob/main/In_class_exercise_05_04182023.ipynb\" target=\"_parent\"><img src=\"https://colab.research.google.com/assets/colab-badge.svg\" alt=\"Open In Colab\"/></a>"
      ]
    },
    {
      "cell_type": "markdown",
      "metadata": {
        "id": "j3JOHdbXAAHs"
      },
      "source": [
        "# **The fifth in-class-exercise (40 points in total, 4/18/2023)**"
      ]
    },
    {
      "cell_type": "markdown",
      "metadata": {
        "id": "z0ce9A80AAHv"
      },
      "source": [
        "(20 points) The purpose of the question is to practice different machine learning algorithms for text classification as well as the performance evaluation. In addition, you are requried to conduct *10 fold cross validation (https://scikit-learn.org/stable/modules/cross_validation.html)* in the training.\n",
        "\n",
        "The dataset can be download from canvas. The dataset contains two files train data and test data for sentiment analysis in IMDB review, it has two categories: 1 represents positive and 0 represents negative. You need to split the training data into training and validate data (80% for training and 20% for validation, https://towardsdatascience.com/train-test-split-and-cross-validation-in-python-80b61beca4b6) and perform 10 fold cross validation while training the classifier. The final trained model was final evaluated on the test data.\n",
        "\n",
        "Algorithms:\n",
        "\n",
        "(1) MultinominalNB\n",
        "\n",
        "(2) SVM\n",
        "\n",
        "(3) KNN\n",
        "\n",
        "(4) Decision tree\n",
        "\n",
        "(5) Random Forest\n",
        "\n",
        "(6) XGBoost\n",
        "\n",
        "(7) Word2Vec\n",
        "\n",
        "(8) BERT\n",
        "\n",
        "Evaluation measurement:\n",
        "\n",
        "(1) Accuracy\n",
        "\n",
        "(2) Recall\n",
        "\n",
        "(3) Precison\n",
        "\n",
        "(4) F-1 score"
      ]
    },
    {
      "cell_type": "code",
      "execution_count": 13,
      "metadata": {
        "colab": {
          "base_uri": "https://localhost:8080/"
        },
        "id": "n0xukhxrvr5m",
        "outputId": "8014a527-80e9-47e0-b08b-1f0702dc7c1b"
      },
      "outputs": [
        {
          "output_type": "stream",
          "name": "stderr",
          "text": [
            "[nltk_data] Downloading package stopwords to /root/nltk_data...\n",
            "[nltk_data]   Package stopwords is already up-to-date!\n",
            "[nltk_data] Downloading package wordnet to /root/nltk_data...\n",
            "[nltk_data]   Package wordnet is already up-to-date!\n",
            "[nltk_data] Downloading package omw-1.4 to /root/nltk_data...\n",
            "[nltk_data]   Package omw-1.4 is already up-to-date!\n",
            "[nltk_data] Downloading package punkt to /root/nltk_data...\n",
            "[nltk_data]   Package punkt is already up-to-date!\n",
            "[nltk_data] Downloading package wordnet to /root/nltk_data...\n",
            "[nltk_data]   Package wordnet is already up-to-date!\n"
          ]
        }
      ],
      "source": [
        "import pandas as pd\n",
        "import matplotlib.pyplot as plt\n",
        "import warnings\n",
        "warnings.filterwarnings(\"ignore\")\n",
        "from sklearn.metrics import precision_score, recall_score, f1_score, accuracy_score\n",
        "def get_text_data(file_name):\n",
        "  with open(file_name) as txtf:\n",
        "      mylist = [line.strip('\\n') for line in txtf]\n",
        "\n",
        "  labels = []\n",
        "  text = []\n",
        "\n",
        "  for i, line in enumerate(mylist):\n",
        "      label = mylist[i][0]\n",
        "      tex = mylist[i][1:]\n",
        "      labels.append(label)\n",
        "      text.append(tex)\n",
        "  return labels, text\n",
        "\n",
        "train_data = get_text_data(\"stsa-train.txt\")\n",
        "train_df = pd.DataFrame(list(zip(train_data[0], train_data[1])),columns =['Reviews', 'Text'])\n",
        "import nltk, re, string\n",
        "from nltk.corpus import stopwords\n",
        "from nltk.stem import PorterStemmer\n",
        "from textblob import Word\n",
        "nltk.download('stopwords')\n",
        "nltk.download(\"wordnet\")\n",
        "nltk.download('omw-1.4')\n",
        "nltk.download('punkt')\n",
        "nltk.download('wordnet')\n",
        "from nltk.stem import WordNetLemmatizer\n",
        "from nltk.tokenize import RegexpTokenizer\n",
        "\n",
        "def tokenize_sentence(s):\n",
        "  # reviews = []\n",
        "  # for x in s:\n",
        "  #   reviews.append(nltk.word_tokenize(x))\n",
        "  st = PorterStemmer()\n",
        "  lemmatizer = WordNetLemmatizer()\n",
        "  tokenizer = RegexpTokenizer(r'\\w+')\n",
        "  tokens = tokenizer.tokenize(s)\n",
        "  stem_words=[st.stem(w) for w in tokens]\n",
        "  lemma_words=[lemmatizer.lemmatize(w) for w in stem_words]\n",
        "  return \" \".join(tokens)\n",
        "\n",
        "def remove_puntutation_and_special_chars(s):\n",
        "  \"\"\"\n",
        "    params1: string containing sentence\n",
        "    return: string with no punctuations\n",
        "  \"\"\"\n",
        "  # punctuation = \"\"\"!()-[]{};+|=-_~`:'\"\\,<>./?@#$%^&*_~\"\"\"\n",
        "  # s1 = s1.replace(punctuation, \"\")\n",
        "  s = s.replace('{html}',\"\")\n",
        "  s = re.sub(r'http\\S+', '',s)\n",
        "  cleanr = re.compile('<.*?>')\n",
        "  cleantext = re.sub(cleanr, '', s)\n",
        "  # return cleantext\n",
        "  return \"\".join([x for x in cleantext if x not in string.punctuation])\n",
        "\n",
        "def remove_nums(s):\n",
        "  return re.sub(r'[0-9]+', '', s)\n",
        "\n",
        "def remove_stopwords(s):\n",
        "  stop = stopwords.words(\"english\")\n",
        "  return \" \".join(x for x in s.split() if len(x)>2 if x not in stop)\n",
        "\n",
        "def lower_all(s):\n",
        "  return \" \".join(x.lower() for x in s.split())\n",
        "\n",
        "train_df[\"text_modified\"] = train_df[\"Text\"].replace(\"\\n\",\"\")\n",
        "operations = [remove_puntutation_and_special_chars, remove_nums, lower_all, remove_stopwords]\n",
        "for op in operations:\n",
        "  train_df[\"text_modified\"] = train_df[\"text_modified\"].apply(op)\n",
        "train_df['tls'] = train_df['text_modified'].apply(tokenize_sentence)\n",
        "test_data = get_text_data(\"stsa-test.txt\")\n",
        "test_df = pd.DataFrame(list(zip(test_data[0], test_data[1])),columns =['Reviews', 'Text'])\n",
        "test_df[\"text_modified\"] = test_df[\"Text\"].replace(\"\\n\",\"\")\n",
        "operations = [remove_puntutation_and_special_chars, remove_nums, lower_all, remove_stopwords]\n",
        "for op in operations:\n",
        "  test_df[\"text_modified\"] = test_df[\"text_modified\"].apply(op)\n",
        "test_df['tls'] = test_df['text_modified'].apply(tokenize_sentence)\n"
      ]
    },
    {
      "cell_type": "code",
      "execution_count": 14,
      "metadata": {
        "id": "mufbO7Ckvr8c"
      },
      "outputs": [],
      "source": [
        "#TF-IDF Vectorization\n",
        "\n",
        "from sklearn.feature_extraction.text import TfidfVectorizer\n",
        "\n",
        "tfidf_vectorizer = TfidfVectorizer(lowercase = False, analyzer='word')\n",
        "train_tfidf = tfidf_vectorizer.fit_transform(train_df[\"tls\"]).toarray()\n",
        "test_tfidf = tfidf_vectorizer.transform(test_df[\"tls\"]).toarray()\n",
        "x_valid, y_valid = test_tfidf, test_df['Reviews']\n",
        "#Splitting the data into train and test\n",
        "\n",
        "from sklearn.model_selection import train_test_split\n",
        "\n",
        "x_train, x_test, y_train, y_test = train_test_split(train_tfidf, train_df[\"Reviews\"],test_size = 0.2, random_state = 202)\n",
        "y_test_dup = y_test.astype(int)\n",
        "#Implemeting train and test the models\n",
        "from sklearn.metrics import precision_score, recall_score, f1_score, accuracy_score\n",
        "# classification report\n",
        "from sklearn.metrics import classification_report\n",
        "\n",
        "def train_model(model, x_train, y_train, x_test, model_name):\n",
        "  classifier = model\n",
        "  model = classifier.fit(x_train, y_train)\n",
        "  predictions_validation_set = classifier.predict(x_test)\n",
        "\n",
        "  print(f\"Accuracy of the {model_name} on train: {round(accuracy_score(y_test, predictions_validation_set)*100)}%\")\n",
        "  print(f\"Percision of the {model_name} on train: { round(precision_score(y_test, predictions_validation_set, pos_label='0')*100)}%\")\n",
        "  print(f\"Recall of the {model_name} on train: {round(recall_score(y_test, predictions_validation_set, pos_label='0')*100)}%\")\n",
        "  print(f\"F1 Score of the {model_name} on train: { round(f1_score(y_test, predictions_validation_set, pos_label='0')*100)}%\")\n",
        "\n",
        "  cr_naive_validation = classification_report(y_test, predictions_validation_set)\n",
        "  print(\"Classification Report on train: \", \"\\n\", \"\\n\",cr_naive_validation)\n",
        "\n",
        "  return model\n",
        "def test_model(model, x_valid, y_valid, model_name):\n",
        "  predictions_test_set = model.predict(x_valid)\n",
        "\n",
        "  print(f\"Accuracy of the {model_name} on test: {round(accuracy_score(y_valid, predictions_test_set)*100)}%\")\n",
        "  print(f\"Percision of the {model_name} on test: { round(precision_score(y_valid, predictions_test_set, pos_label='0')*100)}%\")\n",
        "  print(f\"Recall of the {model_name} on test: {round(recall_score(y_valid, predictions_test_set, pos_label='0')*100)}%\")\n",
        "  print(f\"F1 Score of the {model_name} on test: { round(f1_score(y_valid, predictions_test_set, pos_label='0')*100)}%\")\n",
        "\n",
        "  cr_naive_test = classification_report(y_valid, predictions_test_set)\n",
        "  print(\"Classification Report on test: \", \"\\n\", \"\\n\",cr_naive_test)"
      ]
    },
    {
      "cell_type": "code",
      "execution_count": 15,
      "metadata": {
        "colab": {
          "base_uri": "https://localhost:8080/"
        },
        "id": "RQvxX6w_vr_L",
        "outputId": "a953bcee-b270-4fa2-d32f-c546d986ef40"
      },
      "outputs": [
        {
          "output_type": "stream",
          "name": "stdout",
          "text": [
            "Accuracy of the Naive Bayes Model on train: 79%\n",
            "Percision of the Naive Bayes Model on train: 83%\n",
            "Recall of the Naive Bayes Model on train: 70%\n",
            "F1 Score of the Naive Bayes Model on train: 76%\n",
            "Classification Report on train:  \n",
            " \n",
            "               precision    recall  f1-score   support\n",
            "\n",
            "           0       0.83      0.70      0.76       667\n",
            "           1       0.76      0.87      0.81       717\n",
            "\n",
            "    accuracy                           0.79      1384\n",
            "   macro avg       0.80      0.79      0.79      1384\n",
            "weighted avg       0.79      0.79      0.79      1384\n",
            "\n",
            "Naive Bayes Model  10-fold cross validation on train:  77%\n",
            "Accuracy of the Naive Bayes Model on test: 79%\n",
            "Percision of the Naive Bayes Model on test: 85%\n",
            "Recall of the Naive Bayes Model on test: 71%\n",
            "F1 Score of the Naive Bayes Model on test: 77%\n",
            "Classification Report on test:  \n",
            " \n",
            "               precision    recall  f1-score   support\n",
            "\n",
            "           0       0.85      0.71      0.77       912\n",
            "           1       0.75      0.87      0.81       909\n",
            "\n",
            "    accuracy                           0.79      1821\n",
            "   macro avg       0.80      0.79      0.79      1821\n",
            "weighted avg       0.80      0.79      0.79      1821\n",
            "\n",
            "Naive Bayes Model 10-fold cross validation score on testing set is :  73%\n"
          ]
        }
      ],
      "source": [
        "#MultinomialNB\n",
        "from sklearn.naive_bayes import MultinomialNB\n",
        "\n",
        "classifier = MultinomialNB()\n",
        "model_nb = train_model(MultinomialNB(), x_train, y_train, x_test, \"Naive Bayes Model\")\n",
        "from sklearn.model_selection import cross_val_score\n",
        "naive_accuracies_validation = cross_val_score(estimator = classifier, X = x_train, y = y_train, cv = 10)\n",
        "\n",
        "print(f\"Naive Bayes Model  10-fold cross validation on train:  {round(naive_accuracies_validation.mean()*100)}%\")\n",
        "test_model(model_nb, x_valid, y_valid, \"Naive Bayes Model\")\n",
        "naive_accuracies_test = cross_val_score(estimator = classifier, X = x_valid, y = y_valid, cv = 10)\n",
        "print(f\"Naive Bayes Model 10-fold cross validation score on testing set is :  {round(naive_accuracies_test.mean()*100)}%\")\n"
      ]
    },
    {
      "cell_type": "code",
      "execution_count": 16,
      "metadata": {
        "colab": {
          "base_uri": "https://localhost:8080/"
        },
        "id": "_hkb1BsMvsB7",
        "outputId": "a319a8d1-6195-4cc4-9311-831c77745518"
      },
      "outputs": [
        {
          "output_type": "stream",
          "name": "stdout",
          "text": [
            "Accuracy of the SVM model on train: 78%\n",
            "Percision of the SVM model on train: 77%\n",
            "Recall of the SVM model on train: 77%\n",
            "F1 Score of the SVM model on train: 77%\n",
            "Classification Report on train:  \n",
            " \n",
            "               precision    recall  f1-score   support\n",
            "\n",
            "           0       0.77      0.77      0.77       667\n",
            "           1       0.79      0.79      0.79       717\n",
            "\n",
            "    accuracy                           0.78      1384\n",
            "   macro avg       0.78      0.78      0.78      1384\n",
            "weighted avg       0.78      0.78      0.78      1384\n",
            "\n",
            "SVM Model  10-fold cross validation on train:  76%\n",
            "Accuracy of the SVM Model on test: 79%\n",
            "Percision of the SVM Model on test: 80%\n",
            "Recall of the SVM Model on test: 77%\n",
            "F1 Score of the SVM Model on test: 78%\n",
            "Classification Report on test:  \n",
            " \n",
            "               precision    recall  f1-score   support\n",
            "\n",
            "           0       0.80      0.77      0.78       912\n",
            "           1       0.77      0.81      0.79       909\n",
            "\n",
            "    accuracy                           0.79      1821\n",
            "   macro avg       0.79      0.79      0.79      1821\n",
            "weighted avg       0.79      0.79      0.79      1821\n",
            "\n",
            "SVM Model 10-fold cross validation score on testing set is :  71%\n"
          ]
        }
      ],
      "source": [
        "#SVM\n",
        "from sklearn import svm\n",
        "\n",
        "classifier_svm = svm.LinearSVC()\n",
        "model_svm = train_model(classifier_svm, x_train, y_train, x_test, \"SVM model\")\n",
        "svm_accuracies_validation = cross_val_score(estimator = classifier_svm, X = x_train, y = y_train, cv = 10)\n",
        "\n",
        "print(f\"SVM Model  10-fold cross validation on train:  {round(svm_accuracies_validation.mean()*100)}%\")\n",
        "test_model(model_svm, x_valid, y_valid, \"SVM Model\")\n",
        "svm_accuracies_test = cross_val_score(estimator = classifier_svm, X = x_valid, y = y_valid, cv = 10)\n",
        "print(f\"SVM Model 10-fold cross validation score on testing set is :  {round(svm_accuracies_test.mean()*100)}%\")"
      ]
    },
    {
      "cell_type": "code",
      "execution_count": 5,
      "metadata": {
        "colab": {
          "base_uri": "https://localhost:8080/"
        },
        "id": "c5_JZN97vsE4",
        "outputId": "f0ecf2bf-f2f6-460b-970d-fff44fd5de88"
      },
      "outputs": [
        {
          "output_type": "stream",
          "name": "stdout",
          "text": [
            "Accuracy of the KNN model on train: 74%\n",
            "Percision of the KNN model on train: 71%\n",
            "Recall of the KNN model on train: 79%\n",
            "F1 Score of the KNN model on train: 75%\n",
            "Classification Report on train:  \n",
            " \n",
            "               precision    recall  f1-score   support\n",
            "\n",
            "           0       0.71      0.79      0.75       667\n",
            "           1       0.78      0.70      0.74       717\n",
            "\n",
            "    accuracy                           0.74      1384\n",
            "   macro avg       0.75      0.75      0.74      1384\n",
            "weighted avg       0.75      0.74      0.74      1384\n",
            "\n",
            "KNN Model  10-fold cross validation score on training set is :  71%\n",
            "Accuracy of the KNN Model on test: 73%\n",
            "Percision of the KNN Model on test: 72%\n",
            "Recall of the KNN Model on test: 77%\n",
            "F1 Score of the KNN Model on test: 74%\n",
            "Classification Report on test:  \n",
            " \n",
            "               precision    recall  f1-score   support\n",
            "\n",
            "           0       0.72      0.77      0.74       912\n",
            "           1       0.75      0.70      0.72       909\n",
            "\n",
            "    accuracy                           0.73      1821\n",
            "   macro avg       0.74      0.73      0.73      1821\n",
            "weighted avg       0.74      0.73      0.73      1821\n",
            "\n",
            "KNN Model 10-fold cross validation score on testing set is :  60%\n"
          ]
        }
      ],
      "source": [
        "#KNN\n",
        "from sklearn.neighbors import KNeighborsClassifier\n",
        "\n",
        "classifier_knn = KNeighborsClassifier(n_neighbors = 15)\n",
        "model_knn = train_model(classifier_knn, x_train, y_train, x_test, \"KNN model\")\n",
        "knn_accuracies_validation = cross_val_score(estimator = classifier_knn, X = x_train, y = y_train, cv = 10)\n",
        "\n",
        "print(f\"KNN Model  10-fold cross validation score on training set is :  {round(knn_accuracies_validation.mean()*100)}%\")\n",
        "test_model(model_knn, x_valid, y_valid, \"KNN Model\")\n",
        "knn_accuracies_test = cross_val_score(estimator = classifier_knn, X = x_valid, y = y_valid, cv = 10)\n",
        "\n",
        "print(f\"KNN Model 10-fold cross validation score on testing set is :  {round(knn_accuracies_test.mean()*100)}%\")\n"
      ]
    },
    {
      "cell_type": "code",
      "execution_count": 6,
      "metadata": {
        "colab": {
          "base_uri": "https://localhost:8080/"
        },
        "id": "VI462waPvsNC",
        "outputId": "26236340-3ed0-44b7-a008-29147a466713"
      },
      "outputs": [
        {
          "output_type": "stream",
          "name": "stdout",
          "text": [
            "Accuracy of the XG Boost model on train: 68%\n",
            "Percision of the XG Boost model on train: 66%\n",
            "Recall of the XG Boost model on train: 79%\n",
            "F1 Score of the XG Boost model on train: 72%\n",
            "Classification Report on train:  \n",
            " \n",
            "               precision    recall  f1-score   support\n",
            "\n",
            "           0       0.72      0.57      0.63       667\n",
            "           1       0.66      0.79      0.72       717\n",
            "\n",
            "    accuracy                           0.68      1384\n",
            "   macro avg       0.69      0.68      0.68      1384\n",
            "weighted avg       0.69      0.68      0.68      1384\n",
            "\n",
            "XGBoost Model  10-fold cross validation score on training set is :  69%\n",
            "Accuracy of the XG Boost model on train: 69%\n",
            "Percision of the XG Boost model on train: 65%\n",
            "Recall of the XG Boost model on train: 79%\n",
            "F1 Score of the XG Boost model on train: 71%\n",
            "Classification Report on train:  \n",
            " \n",
            "               precision    recall  f1-score   support\n",
            "\n",
            "           0       0.73      0.58      0.65       912\n",
            "           1       0.65      0.79      0.71       909\n",
            "\n",
            "    accuracy                           0.69      1821\n",
            "   macro avg       0.69      0.69      0.68      1821\n",
            "weighted avg       0.69      0.69      0.68      1821\n",
            "\n",
            "XGBoost Classifier Model 10-fold cross validation score on testing set is :  65%\n"
          ]
        }
      ],
      "source": [
        "#XGBoost\n",
        "y_train_dup = y_train.astype(int)\n",
        "y_train_dup.dtype\n",
        "from xgboost import XGBClassifier\n",
        "\n",
        "classifier_xgb = XGBClassifier()\n",
        "# model_xgb = train_model(classifier_xgb, x_train, y_train_dup, x_test, \"XG Boost model\")\n",
        "\n",
        "model_xgb = classifier_xgb.fit(x_train, y_train_dup)\n",
        "predictions_validation_set = model_xgb.predict(x_test)\n",
        "\n",
        "print(f\"Accuracy of the XG Boost model on train: {round(accuracy_score(y_test_dup, predictions_validation_set)*100)}%\")\n",
        "print(f\"Percision of the XG Boost model on train: { round(precision_score(y_test_dup, predictions_validation_set)*100)}%\")\n",
        "print(f\"Recall of the XG Boost model on train: {round(recall_score(y_test_dup, predictions_validation_set)*100)}%\")\n",
        "print(f\"F1 Score of the XG Boost model on train: { round(f1_score(y_test_dup, predictions_validation_set)*100)}%\")\n",
        "\n",
        "cr_naive_validation = classification_report(y_test_dup, predictions_validation_set)\n",
        "print(\"Classification Report on train: \", \"\\n\", \"\\n\",cr_naive_validation)\n",
        "from sklearn.model_selection import cross_val_score\n",
        "from xgboost import XGBClassifier\n",
        "\n",
        "classifier_xgb = XGBClassifier()\n",
        "xgb_accuracies_validation = cross_val_score(estimator = classifier_xgb, X = x_train, y = y_train_dup, cv = 10)\n",
        "\n",
        "print(f\"XGBoost Model  10-fold cross validation score on training set is :  {round(xgb_accuracies_validation.mean()*100)}%\")\n",
        "y_valid_dup = y_valid.astype(int)\n",
        "y_valid_dup.dtype\n",
        "# test_model(model_xgb, x_valid, y_valid, \"XG Boost Model\")\n",
        "predictions_test_set = model_xgb.predict(x_valid)\n",
        "\n",
        "print(f\"Accuracy of the XG Boost model on train: {round(accuracy_score(y_valid_dup, predictions_test_set)*100)}%\")\n",
        "print(f\"Percision of the XG Boost model on train: { round(precision_score(y_valid_dup, predictions_test_set)*100)}%\")\n",
        "print(f\"Recall of the XG Boost model on train: {round(recall_score(y_valid_dup, predictions_test_set)*100)}%\")\n",
        "print(f\"F1 Score of the XG Boost model on train: { round(f1_score(y_valid_dup, predictions_test_set)*100)}%\")\n",
        "\n",
        "cr_naive_validation = classification_report(y_valid_dup, predictions_test_set)\n",
        "print(\"Classification Report on train: \", \"\\n\", \"\\n\",cr_naive_validation)\n",
        "xgb_accuracies_test = cross_val_score(estimator = classifier_xgb, X = x_valid, y = y_valid_dup, cv = 10)\n",
        "\n",
        "print(f\"XGBoost Classifier Model 10-fold cross validation score on testing set is :  {round(xgb_accuracies_test.mean()*100)}%\")\n"
      ]
    },
    {
      "cell_type": "code",
      "source": [
        "#Decision Tree\n",
        "from sklearn.tree import DecisionTreeClassifier\n",
        "from sklearn.model_selection import cross_val_score\n",
        "from sklearn.metrics import accuracy_score, classification_report\n",
        "\n",
        "\n",
        "classifier_dt = DecisionTreeClassifier()\n",
        "model_dt = classifier_dt.fit(x_train, y_train)\n",
        "\n",
        "dt_accuracies_validation = cross_val_score(estimator=classifier_dt, X=x_train, y=y_train, cv=10)\n",
        "print(f\"Decision Tree Classifier Model 10-fold cross-validation score on training set is: {round(dt_accuracies_validation.mean()*100)}%\")\n",
        "\n",
        "predictions_validation_set_dt = model_dt.predict(x_test)\n",
        "\n",
        "print(f\"Accuracy of the Decision Tree model on validation: {round(accuracy_score(y_test, predictions_validation_set_dt)*100)}%\")\n",
        "print(\"Classification Report on validation: \\n\", classification_report(y_test, predictions_validation_set_dt))\n",
        "\n",
        "dt_accuracies_test = cross_val_score(estimator=classifier_dt, X=x_valid, y=y_valid, cv=10)\n",
        "print(f\"Decision Tree Classifier Model 10-fold cross-validation score on testing set is: {round(dt_accuracies_test.mean()*100)}%\")\n"
      ],
      "metadata": {
        "colab": {
          "base_uri": "https://localhost:8080/"
        },
        "id": "3qis-NTpL7TL",
        "outputId": "216f95b9-7ae2-4a19-d336-3e6926f86fde"
      },
      "execution_count": 10,
      "outputs": [
        {
          "output_type": "stream",
          "name": "stdout",
          "text": [
            "Decision Tree Classifier Model 10-fold cross-validation score on training set is: 65%\n",
            "Accuracy of the Decision Tree model on validation: 66%\n",
            "Classification Report on validation: \n",
            "               precision    recall  f1-score   support\n",
            "\n",
            "           0       0.63      0.71      0.67       667\n",
            "           1       0.70      0.62      0.65       717\n",
            "\n",
            "    accuracy                           0.66      1384\n",
            "   macro avg       0.66      0.66      0.66      1384\n",
            "weighted avg       0.67      0.66      0.66      1384\n",
            "\n",
            "Decision Tree Classifier Model 10-fold cross-validation score on testing set is: 62%\n"
          ]
        }
      ]
    },
    {
      "cell_type": "code",
      "source": [
        "#Random forest\n",
        "from sklearn.ensemble import RandomForestClassifier\n",
        "from sklearn.model_selection import cross_val_score\n",
        "from sklearn.metrics import accuracy_score, classification_report\n",
        "\n",
        "\n",
        "classifier_rf = RandomForestClassifier()\n",
        "model_rf = classifier_rf.fit(x_train, y_train)\n",
        "\n",
        "\n",
        "rf_accuracies_validation = cross_val_score(estimator=classifier_rf, X=x_train, y=y_train, cv=10)\n",
        "print(f\"Random Forest Classifier Model 10-fold cross-validation score on training set is: {round(rf_accuracies_validation.mean()*100)}%\")\n",
        "\n",
        "\n",
        "predictions_validation_set_rf = model_rf.predict(x_test)\n",
        "\n",
        "\n",
        "print(f\"Accuracy of the Random Forest model on validation: {round(accuracy_score(y_test, predictions_validation_set_rf)*100)}%\")\n",
        "print(\"Classification Report on validation: \\n\", classification_report(y_test, predictions_validation_set_rf))\n",
        "\n",
        "\n",
        "rf_accuracies_test = cross_val_score(estimator=classifier_rf, X=x_valid, y=y_valid, cv=10)\n",
        "print(f\"Random Forest Classifier Model 10-fold cross-validation score on testing set is: {round(rf_accuracies_test.mean()*100)}%\")\n"
      ],
      "metadata": {
        "colab": {
          "base_uri": "https://localhost:8080/"
        },
        "id": "THAo7TJqL7mD",
        "outputId": "d7d8b989-4e6f-4caf-c26b-a45afe4629bd"
      },
      "execution_count": 11,
      "outputs": [
        {
          "output_type": "stream",
          "name": "stdout",
          "text": [
            "Random Forest Classifier Model 10-fold cross-validation score on training set is: 73%\n",
            "Accuracy of the Random Forest model on validation: 74%\n",
            "Classification Report on validation: \n",
            "               precision    recall  f1-score   support\n",
            "\n",
            "           0       0.72      0.75      0.73       667\n",
            "           1       0.76      0.73      0.74       717\n",
            "\n",
            "    accuracy                           0.74      1384\n",
            "   macro avg       0.74      0.74      0.74      1384\n",
            "weighted avg       0.74      0.74      0.74      1384\n",
            "\n",
            "Random Forest Classifier Model 10-fold cross-validation score on testing set is: 64%\n"
          ]
        }
      ]
    },
    {
      "cell_type": "markdown",
      "metadata": {
        "id": "u5iLySXiAAHw"
      },
      "source": [
        "(20 points) The purpose of the question is to practice different machine learning algorithms for text clustering\n",
        "Please downlad the dataset by using the following link.  https://www.kaggle.com/PromptCloudHQ/amazon-reviews-unlocked-mobile-phones\n",
        "(You can also use different text data which you want)\n",
        "\n",
        "Apply the listed clustering methods to the dataset:\n",
        "\n",
        "K-means\n",
        "\n",
        "DBSCAN\n",
        "\n",
        "Hierarchical clustering\n",
        "\n",
        "Word2Vec\n",
        "\n",
        "BERT\n",
        "\n",
        "You can refer to of the codes from  the follwing link below.\n",
        "https://www.kaggle.com/karthik3890/text-clustering"
      ]
    },
    {
      "cell_type": "code",
      "execution_count": 25,
      "metadata": {
        "id": "v1i79190J9yp"
      },
      "outputs": [],
      "source": [
        "import re\n",
        "from nltk.corpus import stopwords\n",
        "from nltk.tokenize import word_tokenize\n",
        "\n",
        "def remove_punctuation_and_special_chars(text):\n",
        "    return re.sub(r'[^a-zA-Z0-9\\s]', '', text)\n",
        "\n",
        "def remove_nums(text):\n",
        "    return re.sub(r'\\d+', '', text)\n",
        "\n",
        "def lower_all(text):\n",
        "    return text.lower()\n",
        "\n",
        "def remove_stopwords(text):\n",
        "    stop_words = set(stopwords.words('english'))\n",
        "    tokens = word_tokenize(text)\n",
        "    filtered_tokens = [word for word in tokens if word.lower() not in stop_words]\n",
        "    return ' '.join(filtered_tokens)\n",
        "\n"
      ]
    },
    {
      "cell_type": "code",
      "execution_count": 26,
      "metadata": {
        "id": "d_1UwEfZqInS"
      },
      "outputs": [],
      "source": [
        "from nltk.stem import PorterStemmer\n",
        "from nltk.tokenize import RegexpTokenizer\n",
        "from nltk.corpus import stopwords\n",
        "from nltk.stem import WordNetLemmatizer\n",
        "\n",
        "def tokenize_sentence(s):\n",
        "    st = PorterStemmer()\n",
        "    lemmatizer = WordNetLemmatizer()\n",
        "    tokenizer = RegexpTokenizer(r'\\w+')\n",
        "    stop = stopwords.words(\"english\")\n",
        "\n",
        "    tokens = tokenizer.tokenize(s)\n",
        "    tokens = [st.stem(w) for w in tokens]\n",
        "    tokens = [lemmatizer.lemmatize(w) for w in tokens]\n",
        "    tokens = [x.lower() for x in tokens if len(x) > 2 and x not in stop]\n",
        "\n",
        "    return \" \".join(tokens)\n"
      ]
    },
    {
      "cell_type": "code",
      "execution_count": 27,
      "metadata": {
        "id": "5wmn6pgzMusm",
        "colab": {
          "base_uri": "https://localhost:8080/",
          "height": 671
        },
        "outputId": "585dd76b-d04b-4ca9-c0b0-3867de85d3b9"
      },
      "outputs": [
        {
          "output_type": "display_data",
          "data": {
            "text/plain": [
              "<Figure size 1100x600 with 1 Axes>"
            ],
            "image/png": "[encoded data removed]"
          },
          "metadata": {}
        },
        {
          "output_type": "stream",
          "name": "stdout",
          "text": [
            "Cluster 1: Top Words - ['cell', 'origin', 'took', 'creation', 'even', 'wors', 'look']\n",
            "Cluster 2: Top Words - ['movi', 'realli', 'great', 'charact', 'gohan', 'love', 'one']\n",
            "Cluster 3: Top Words - ['dragon', 'ball', 'film', 'theatr', 'watch', 'time', 'fan']\n",
            "Cluster 4: Top Words - ['worl', 'kakaroto', 'best', 'anim', 'goku', 'worledkakaroto', 'featur']\n",
            "Cluster 5: Top Words - ['view', 'may', 'canada', 'make', 'watch', 'zero', 'anybodi']\n",
            "Silhouette Score: 0.32278304932314567\n"
          ]
        }
      ],
      "source": [
        "#k-means method\n",
        "import pandas as pd\n",
        "from sklearn.feature_extraction.text import TfidfVectorizer\n",
        "from sklearn.cluster import KMeans\n",
        "from sklearn import metrics\n",
        "from matplotlib import pyplot as plt\n",
        "\n",
        "# Assuming the 'clean_text' column is present\n",
        "df = pd.read_csv('Assignment_3_sentiment.csv')\n",
        "df.dropna(inplace=True)\n",
        "\n",
        "# Assuming 'clean_text' is the text column to be used\n",
        "df[\"text_modified\"] = df[\"clean_text\"].replace(\"\\n\", \"\")\n",
        "operations = [remove_punctuation_and_special_chars, remove_nums, lower_all, remove_stopwords]\n",
        "\n",
        "# Assuming these functions are defined\n",
        "for op in operations:\n",
        "    df[\"text_modified\"] = df[\"text_modified\"].apply(op)\n",
        "\n",
        "# Tokenize and lemmatize/stem text\n",
        "df['review_tls'] = df['text_modified'].apply(tokenize_sentence)\n",
        "\n",
        "# TF-IDF Vectorization\n",
        "tfidf_vect = TfidfVectorizer()\n",
        "tfidf_vects = tfidf_vect.fit_transform(df['review_tls'].values.astype('U'))\n",
        "names = tfidf_vect.get_feature_names_out()\n",
        "\n",
        "# Elbow Method\n",
        "scores = []\n",
        "for i in range(2, 12):\n",
        "    kmeans = KMeans(n_clusters=i, init=\"k-means++\", random_state=40)\n",
        "    kmeans.fit(tfidf_vects)\n",
        "    scores.append(kmeans.inertia_)\n",
        "\n",
        "# Plot the Elbow Method\n",
        "plt.figure(figsize=(11, 6))\n",
        "plt.plot(range(2, 12), scores, marker=\"o\")\n",
        "plt.title(\"The Elbow Method\")\n",
        "plt.xlabel(\"Number of clusters\")\n",
        "plt.ylabel(\"Inertia\")\n",
        "plt.show()\n",
        "\n",
        "# Fit KMeans with the chosen number of clusters (e.g., 5)\n",
        "num_clusters = 5\n",
        "model = KMeans(n_clusters=num_clusters, init='k-means++', max_iter=10000, random_state=50)\n",
        "model.fit(tfidf_vects)\n",
        "\n",
        "# Cluster Analysis\n",
        "cluster_center = model.cluster_centers_\n",
        "centroids = model.cluster_centers_.argsort()[:, ::-1]\n",
        "\n",
        "top_words = 7\n",
        "for cluster_num in range(num_clusters):\n",
        "    key_features = [names[i] for i in centroids[cluster_num, :top_words]]\n",
        "    print(f'Cluster {cluster_num + 1}: Top Words - {key_features}')\n",
        "\n",
        "# Silhouette Score\n",
        "silhouette_score_tf = metrics.silhouette_score(tfidf_vects, model.labels_, metric='euclidean')\n",
        "print(f'Silhouette Score: {silhouette_score_tf}')\n"
      ]
    },
    {
      "cell_type": "code",
      "execution_count": 28,
      "metadata": {
        "id": "WpAYT9tdJ91p",
        "colab": {
          "base_uri": "https://localhost:8080/",
          "height": 1000
        },
        "outputId": "2ca8326f-daa7-4a06-968f-ab8458755161"
      },
      "outputs": [
        {
          "output_type": "display_data",
          "data": {
            "text/plain": [
              "<Figure size 1400x400 with 1 Axes>"
            ],
            "image/png": "[encoded data removed]"
          },
          "metadata": {}
        },
        {
          "output_type": "stream",
          "name": "stdout",
          "text": [
            "     document_id                                         clean_text Sentiment  \\\n",
            "0              0  entire movie looked like video game art budoka...  Positive   \n",
            "1              1  im dragon ball fan time ive watched back child...  Positive   \n",
            "2              2  ive seen movie cinema laugh much like humor mo...  Positive   \n",
            "3              3  honest first really concerned cgianimation sin...  Positive   \n",
            "4              4  dragon ball fan india delight watch theatre ma...  Positive   \n",
            "..           ...                                                ...       ...   \n",
            "100          100  loyal fan dragon ball franchise year film real...   Neutral   \n",
            "101          101  movie bad dragon ball character always charact...  Negative   \n",
            "102          102  like honestly akira ruining legacy much potent...  Positive   \n",
            "103          103  title state highly disappointed ive tried ever...   Neutral   \n",
            "104          104  movie breathe fresh air high stake world endin...  Positive   \n",
            "\n",
            "                                         text_modified  \\\n",
            "0    entire movie looked like video game art budoka...   \n",
            "1    im dragon ball fan time ive watched back child...   \n",
            "2    ive seen movie cinema laugh much like humor mo...   \n",
            "3    honest first really concerned cgianimation sin...   \n",
            "4    dragon ball fan india delight watch theatre ma...   \n",
            "..                                                 ...   \n",
            "100  loyal fan dragon ball franchise year film real...   \n",
            "101  movie bad dragon ball character always charact...   \n",
            "102  like honestly akira ruining legacy much potent...   \n",
            "103  title state highly disappointed ive tried ever...   \n",
            "104  movie breathe fresh air high stake world endin...   \n",
            "\n",
            "                                            review_tls  DBS Cluster Label  \n",
            "0    entir movi look like video game art budokai te...                 -1  \n",
            "1    dragon ball fan time ive watch back childhood ...                 -1  \n",
            "2    ive seen movi cinema laugh much like humor mov...                 -1  \n",
            "3    honest first realli concern cgianim sinc broli...                 -1  \n",
            "4    dragon ball fan india delight watch theatr man...                 -1  \n",
            "..                                                 ...                ...  \n",
            "100  loyal fan dragon ball franchis year film reall...                 -1  \n",
            "101  movi bad dragon ball charact alway character s...                 -1  \n",
            "102  like honestli akira ruin legaci much potenti p...                 -1  \n",
            "103  titl state highli disappoint ive tri everi sin...                 -1  \n",
            "104  movi breath fresh air high stake world end dra...                 -1  \n",
            "\n",
            "[105 rows x 6 columns]\n"
          ]
        }
      ],
      "source": [
        "#DBSCAN method\n",
        "import pandas as pd\n",
        "import gensim\n",
        "import numpy as np\n",
        "from sklearn.cluster import DBSCAN\n",
        "\n",
        "# Assuming 'review_tls' is the column with tokenized and lemmatized/stemmed reviews\n",
        "reviews = [str(i).split() for i in df['review_tls']]\n",
        "\n",
        "# Train Word2Vec model\n",
        "w2v_model = gensim.models.Word2Vec(reviews, vector_size=100, workers=4)\n",
        "\n",
        "# Generate vectors\n",
        "vectors = []\n",
        "for review in reviews:\n",
        "    vector = np.zeros(100)\n",
        "    count = 0\n",
        "    for word in review:\n",
        "        try:\n",
        "            vec = w2v_model.wv[word]\n",
        "            vector += vec\n",
        "            count += 1\n",
        "        except:\n",
        "            pass\n",
        "    vector /= count\n",
        "    vectors.append(vector)\n",
        "\n",
        "vectors = np.array(vectors)\n",
        "vectors = np.nan_to_num(vectors)\n",
        "\n",
        "# Function to compute the 200th nearest neighbor distance\n",
        "def compute_200th_nearest_neighbour(x, data):\n",
        "    dists = []\n",
        "    for val in data:\n",
        "        dist = np.sum((x - val) ** 2)\n",
        "        if len(dists) == 200 and dists[199] > dist:\n",
        "            l = int(lower_bound(dists, dist))\n",
        "            if 0 <= l < 200 and dists[l] > dist:\n",
        "                dists[l] = dist\n",
        "        else:\n",
        "            dists.append(dist)\n",
        "            dists.sort()\n",
        "\n",
        "    return dists[104]\n",
        "\n",
        "# Compute the 200th nearest neighbor distance for each vector\n",
        "two_hundredth_neigh = [compute_200th_nearest_neighbour(val, vectors) for val in vectors]\n",
        "two_hundredth_neigh.sort()\n",
        "\n",
        "# Plotting for the Elbow Method\n",
        "plt.figure(figsize=(14, 4))\n",
        "plt.title(\"Elbow Method for Finding the right Eps hyperparameter\")\n",
        "plt.plot([x for x in range(len(two_hundredth_neigh))], two_hundredth_neigh)\n",
        "plt.xlabel(\"Number of points\")\n",
        "plt.ylabel(\"Distance of 200th Nearest Neighbour\")\n",
        "plt.show()\n",
        "\n",
        "# Choose an appropriate epsilon based on the plot, let's say 5\n",
        "eps_value = 5\n",
        "\n",
        "# Define minPts\n",
        "minPts = 2 * 100\n",
        "\n",
        "# Create and fit the DBSCAN model\n",
        "model_dbs = DBSCAN(eps=eps_value, min_samples=minPts)\n",
        "model_dbs.fit(vectors)\n",
        "\n",
        "# Add cluster labels to the DataFrame\n",
        "df['DBS Cluster Label'] = model_dbs.labels_\n",
        "\n",
        "# Display the DataFrame with cluster labels\n",
        "print(df)\n"
      ]
    },
    {
      "cell_type": "code",
      "execution_count": 29,
      "metadata": {
        "id": "O8t6bSEGo73s",
        "colab": {
          "base_uri": "https://localhost:8080/",
          "height": 1000
        },
        "outputId": "f2c5398f-fe56-417a-c0c8-c3751f3b9e23"
      },
      "outputs": [
        {
          "output_type": "display_data",
          "data": {
            "text/plain": [
              "<Figure size 640x480 with 1 Axes>"
            ],
            "image/png": "[encoded data removed]"
          },
          "metadata": {}
        },
        {
          "output_type": "stream",
          "name": "stdout",
          "text": [
            "   document_id                                         clean_text Sentiment  \\\n",
            "0            0  entire movie looked like video game art budoka...  Positive   \n",
            "1            1  im dragon ball fan time ive watched back child...  Positive   \n",
            "2            2  ive seen movie cinema laugh much like humor mo...  Positive   \n",
            "3            3  honest first really concerned cgianimation sin...  Positive   \n",
            "4            4  dragon ball fan india delight watch theatre ma...  Positive   \n",
            "\n",
            "                                       text_modified  \\\n",
            "0  entire movie looked like video game art budoka...   \n",
            "1  im dragon ball fan time ive watched back child...   \n",
            "2  ive seen movie cinema laugh much like humor mo...   \n",
            "3  honest first really concerned cgianimation sin...   \n",
            "4  dragon ball fan india delight watch theatre ma...   \n",
            "\n",
            "                                          review_tls  DBS Cluster Label  \\\n",
            "0  entir movi look like video game art budokai te...                 -1   \n",
            "1  dragon ball fan time ive watch back childhood ...                 -1   \n",
            "2  ive seen movi cinema laugh much like humor mov...                 -1   \n",
            "3  honest first realli concern cgianim sinc broli...                 -1   \n",
            "4  dragon ball fan india delight watch theatr man...                 -1   \n",
            "\n",
            "   AVG-W2V Clus Label  \n",
            "0                   1  \n",
            "1                   0  \n",
            "2                   0  \n",
            "3                   0  \n",
            "4                   0  \n",
            "Hierarchical Cluster Labels\n",
            "0    70\n",
            "1    28\n",
            "2     7\n",
            "Name: review_tls, dtype: int64\n",
            "Silhouette Score for Agglomerative Clustering: 0.2024542753237253\n"
          ]
        }
      ],
      "source": [
        "#Hierarchical clustering method\n",
        "import scipy\n",
        "from scipy.cluster import hierarchy\n",
        "import matplotlib.pyplot as plt\n",
        "from sklearn.cluster import AgglomerativeClustering\n",
        "from sklearn import metrics\n",
        "\n",
        "# Assuming 'review_tls' is the column with tokenized and lemmatized/stemmed reviews\n",
        "reviews = df['review_tls']\n",
        "\n",
        "# Hierarchical clustering using dendrogram\n",
        "dendro = hierarchy.dendrogram(hierarchy.linkage(tfidf_vects.toarray(), method='ward'))\n",
        "plt.axhline(y=2)\n",
        "plt.show()\n",
        "\n",
        "# Agglomerative Clustering\n",
        "cluster = AgglomerativeClustering(n_clusters=3, affinity='euclidean', linkage='ward')\n",
        "agg_labels = cluster.fit_predict(tfidf_vects.toarray())\n",
        "df['AVG-W2V Clus Label'] = agg_labels\n",
        "\n",
        "# Displaying the DataFrame with cluster labels\n",
        "print(df.head())\n",
        "\n",
        "# Grouping and counting reviews in each cluster\n",
        "hier_df = df\n",
        "hier_df[\"Hierarchical Cluster Labels\"] = agg_labels\n",
        "cluster_counts = hier_df.groupby([\"Hierarchical Cluster Labels\"])[\"review_tls\"].count()\n",
        "print(cluster_counts)\n",
        "\n",
        "# Silhouette Score for Agglomerative Clustering\n",
        "silhouette_score_agg = metrics.silhouette_score(tfidf_vects.toarray(), agg_labels)\n",
        "print(f\"Silhouette Score for Agglomerative Clustering: {silhouette_score_agg}\")\n"
      ]
    },
    {
      "cell_type": "code",
      "execution_count": 30,
      "metadata": {
        "id": "iHLJKlaho7-H",
        "colab": {
          "base_uri": "https://localhost:8080/",
          "height": 811
        },
        "outputId": "1f29885f-7510-4914-be61-facd4c3fa843"
      },
      "outputs": [
        {
          "output_type": "stream",
          "name": "stdout",
          "text": [
            "Shape of sentence vectors: (105, 100)\n"
          ]
        },
        {
          "output_type": "display_data",
          "data": {
            "text/plain": [
              "<Figure size 640x480 with 1 Axes>"
            ],
            "image/png": "[encoded data removed]"
          },
          "metadata": {}
        },
        {
          "output_type": "stream",
          "name": "stdout",
          "text": [
            "The optimal number of clusters obtained is -  10\n",
            "The loss for the optimal cluster is -  0.006893366441661314\n",
            "   document_id                                         clean_text Sentiment  \\\n",
            "0            0  entire movie looked like video game art budoka...  Positive   \n",
            "1            1  im dragon ball fan time ive watched back child...  Positive   \n",
            "\n",
            "                                       text_modified  \\\n",
            "0  entire movie looked like video game art budoka...   \n",
            "1  im dragon ball fan time ive watched back child...   \n",
            "\n",
            "                                          review_tls  DBS Cluster Label  \\\n",
            "0  entir movi look like video game art budokai te...                 -1   \n",
            "1  dragon ball fan time ive watch back childhood ...                 -1   \n",
            "\n",
            "   AVG-W2V Clus Label  Hierarchical Cluster Labels  AVG-W2V Word2Vec Label  \n",
            "0                   1                            1                       6  \n",
            "1                   0                            0                       8  \n",
            "Silhouette Score for Word2Vec Clustering: 0.8389082526348083\n"
          ]
        }
      ],
      "source": [
        "#Word2Vec method\n",
        "import numpy as np\n",
        "from sklearn.cluster import KMeans\n",
        "from sklearn import metrics\n",
        "import matplotlib.pyplot as plt\n",
        "\n",
        "# Assuming 'df' contains your DataFrame with 'review_tls' column\n",
        "i = 0\n",
        "list_of_sent = []\n",
        "for sent in df['review_tls'].values:\n",
        "    list_of_sent.append(sent.split())\n",
        "\n",
        "import gensim\n",
        "# Training the word2vec model using the train dataset\n",
        "w2v_model = gensim.models.Word2Vec(list_of_sent, vector_size=100, workers=4)\n",
        "\n",
        "# Computing sentence vectors\n",
        "sent_vectors = []\n",
        "for sent in list_of_sent:\n",
        "    sent_vec = np.zeros(100)\n",
        "    cnt_words = 0\n",
        "    for word in sent:\n",
        "        try:\n",
        "            vec = w2v_model.wv[word]\n",
        "            sent_vec += vec\n",
        "            cnt_words += 1\n",
        "        except:\n",
        "            pass\n",
        "    if cnt_words != 0:\n",
        "        sent_vec /= cnt_words\n",
        "    sent_vectors.append(sent_vec)\n",
        "sent_vectors = np.array(sent_vectors)\n",
        "sent_vectors = np.nan_to_num(sent_vectors)\n",
        "print(\"Shape of sentence vectors:\", sent_vectors.shape)\n",
        "\n",
        "# Number of clusters to check.\n",
        "num_clusters = [x for x in range(3, 11)]\n",
        "\n",
        "# Compute squared errors for different number of clusters\n",
        "squared_errors = []\n",
        "for cluster in num_clusters:\n",
        "    kmeans = KMeans(n_clusters=cluster).fit(sent_vectors)\n",
        "    squared_errors.append(kmeans.inertia_)\n",
        "\n",
        "# Find the optimal number of clusters\n",
        "optimal_clusters = np.argmin(squared_errors) + 3\n",
        "\n",
        "# Plot the Elbow Curve\n",
        "plt.plot(num_clusters, squared_errors)\n",
        "plt.title(\"Elbow Curve to find the number of clusters.\")\n",
        "plt.xlabel(\"Number of clusters.\")\n",
        "plt.ylabel(\"Squared Loss.\")\n",
        "xy = (optimal_clusters, min(squared_errors))\n",
        "plt.annotate('(%s, %s)' % xy, xy=xy, textcoords='data')\n",
        "plt.show()\n",
        "\n",
        "print(\"The optimal number of clusters obtained is - \", optimal_clusters)\n",
        "print(\"The loss for the optimal cluster is - \", min(squared_errors))\n",
        "\n",
        "# Training the best model\n",
        "model_w2v = KMeans(n_clusters=optimal_clusters)\n",
        "model_w2v.fit(sent_vectors)\n",
        "word_cluster_pred = model_w2v.predict(sent_vectors)\n",
        "word_cluster_pred_2 = model_w2v.labels_\n",
        "word_cluster_center = model_w2v.cluster_centers_\n",
        "\n",
        "# Adding cluster labels to the DataFrame\n",
        "df['AVG-W2V Word2Vec Label'] = model_w2v.labels_\n",
        "\n",
        "# Display the DataFrame with cluster labels\n",
        "print(df.head(2))\n",
        "\n",
        "# Compute Silhouette Score\n",
        "silhouette_score_w2v = metrics.silhouette_score(sent_vectors, word_cluster_pred_2, metric='euclidean')\n",
        "print(\"Silhouette Score for Word2Vec Clustering:\", silhouette_score_w2v)\n"
      ]
    },
    {
      "cell_type": "code",
      "execution_count": 33,
      "metadata": {
        "id": "EoHJi0k04SMH",
        "colab": {
          "base_uri": "https://localhost:8080/"
        },
        "outputId": "18162f7e-886f-4ab6-d3c3-e136cfb08843"
      },
      "outputs": [
        {
          "output_type": "stream",
          "name": "stdout",
          "text": [
            "4    35\n",
            "3    28\n",
            "1    21\n",
            "2    14\n",
            "0     7\n",
            "Name: cluster, dtype: int64\n",
            "Silhouette Score for BERT Clustering: 0.3769749\n"
          ]
        }
      ],
      "source": [
        "import numpy as np\n",
        "import pandas as pd\n",
        "import torch\n",
        "from transformers import AutoTokenizer, AutoModel\n",
        "from sklearn.cluster import KMeans\n",
        "from sklearn import metrics\n",
        "\n",
        "# Load BERT model and tokenizer\n",
        "tokenizer = AutoTokenizer.from_pretrained('bert-base-uncased')\n",
        "model = AutoModel.from_pretrained('bert-base-uncased')\n",
        "\n",
        "def generate_bert_embedding(text):\n",
        "    input_ids = torch.tensor(tokenizer.encode(text, add_special_tokens=True)).unsqueeze(0)\n",
        "    outputs = model(input_ids)\n",
        "    last_hidden_states = outputs[0][:, 0, :].detach().numpy()\n",
        "    return last_hidden_states.flatten()  # Flatten the array\n",
        "\n",
        "# Load text data\n",
        "text_data = df['review_tls'].tolist()\n",
        "\n",
        "# Generate BERT embeddings for text data\n",
        "embeddings = np.array([generate_bert_embedding(text) for text in text_data])\n",
        "\n",
        "# Cluster BERT embeddings using KMeans\n",
        "n_clusters = 5\n",
        "kmeans = KMeans(n_clusters=n_clusters, random_state=42).fit(embeddings)\n",
        "\n",
        "# Assign cluster labels to text data\n",
        "df['cluster'] = kmeans.labels_\n",
        "\n",
        "# Print the number of texts in each cluster\n",
        "print(df['cluster'].value_counts())\n",
        "\n",
        "# Compute Silhouette Score\n",
        "silhouette_score_bert = metrics.silhouette_score(embeddings, kmeans.labels_, metric='euclidean')\n",
        "print(\"Silhouette Score for BERT Clustering:\", silhouette_score_bert)\n"
      ]
    },
    {
      "cell_type": "markdown",
      "metadata": {
        "id": "W3_uNz82AAHx"
      },
      "source": [
        "In one paragraph, please compare the results of K-means, DBSCAN, Hierarchical clustering, Word2Vec, and BERT."
      ]
    },
    {
      "cell_type": "markdown",
      "metadata": {
        "id": "qiTtd2dQDnVi"
      },
      "source": [
        "K-means clustering relies on the distance between data points and the centroids of clusters, seeking to partition data into groups based on proximity. In contrast, DBSCAN focuses on density, identifying regions where points are densely concentrated and separating them from sparse areas. Hierarchical clustering operates in layers, initially treating each data point as a separate cluster and progressively combining closer clusters. Word2Vec involves transforming sentences into word lists and then into frequency vectors, capturing word relationships and suggesting synonyms. BERT, or bi-directional encoder, establishes dynamic connections between every output and input element. Silhouette scores were computed to evaluate clustering performance, with Word2Vec achieving the highest score (0.817). A score of 1 signifies optimal compactness within the assigned cluster and significant separation from other clusters.\n",
        "\n",
        "\n",
        "\n",
        "\n",
        "\n",
        "\n",
        "\n",
        "\n",
        "\n",
        "\n",
        "\n",
        "\n",
        "\n",
        "\n",
        "\n"
      ]
    }
  ],
  "metadata": {
    "colab": {
      "provenance": [],
      "include_colab_link": true
    },
    "kernelspec": {
      "display_name": "Python 3 (ipykernel)",
      "language": "python",
      "name": "python3"
    },
    "language_info": {
      "codemirror_mode": {
        "name": "ipython",
        "version": 3
      },
      "file_extension": ".py",
      "mimetype": "text/x-python",
      "name": "python",
      "nbconvert_exporter": "python",
      "pygments_lexer": "ipython3",
      "version": "3.9.12"
    }
  },
  "nbformat": 4,
  "nbformat_minor": 0
}