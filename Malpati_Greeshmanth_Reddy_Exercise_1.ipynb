{
  "cells": [
    {
      "cell_type": "markdown",
      "metadata": {
        "id": "view-in-github",
        "colab_type": "text"
      },
      "source": [
        "<a href=\"https://colab.research.google.com/github/greeshmanth-5/Greeshmanth_INFO5731_Fall2023/blob/main/Malpati_Greeshmanth_Reddy_Exercise_1.ipynb\" target=\"_parent\"><img src=\"https://colab.research.google.com/assets/colab-badge.svg\" alt=\"Open In Colab\"/></a>"
      ]
    },
    {
      "cell_type": "markdown",
      "metadata": {
        "id": "DymRJbxDBCnf"
      },
      "source": [
        "# **The first In-class-exercise (08/30/2023, 40 points in total)**\n",
        "This exercise is due tomorrow 08/31/203 11:59 PM.\n"
      ]
    },
    {
      "cell_type": "markdown",
      "source": [
        "(1) Write a Python program to calculate the area of a rectangle using user-input length and width."
      ],
      "metadata": {
        "id": "FBKvD6O_TY6e"
      }
    },
    {
      "cell_type": "code",
      "source": [
        "len= float(input(\"Enter the length of rectangle \"))\n",
        "width= float(input(\"Enter the width of rectangle \"))\n",
        "Area=len * width\n",
        "print(f\"Area of rectangle is {Area}\")"
      ],
      "metadata": {
        "id": "cikVKDXdTbzE",
        "colab": {
          "base_uri": "https://localhost:8080/"
        },
        "outputId": "0ecab32f-0628-4c7f-e88a-acee8741181b"
      },
      "execution_count": 4,
      "outputs": [
        {
          "output_type": "stream",
          "name": "stdout",
          "text": [
            "Enter the length of rectangle 10\n",
            "Enter the width of rectangle 5\n",
            "Area of rectangle is 50.0\n"
          ]
        }
      ]
    },
    {
      "cell_type": "markdown",
      "source": [
        "(2) Create a program that takes two numbers from the user and swaps their values without using a temporary variable."
      ],
      "metadata": {
        "id": "E9RqrlwdTfvl"
      }
    },
    {
      "cell_type": "code",
      "source": [
        "Var1=int(input(\"Enter the first variable \"))\n",
        "Var2=int(input(\"Enter the second variable \"))\n",
        "Var1= Var1+Var2\n",
        "Var2= Var1-Var2\n",
        "Var1= Var1-Var2\n",
        "print(f\"First variable value after swapping : {Var1}\")\n",
        "print(f\"Second variable value after swapping : {Var2}\")\n"
      ],
      "metadata": {
        "id": "4XvRknixTh1g",
        "colab": {
          "base_uri": "https://localhost:8080/"
        },
        "outputId": "96551121-e0c8-4ea6-ed9a-a2aede77bd7a"
      },
      "execution_count": 6,
      "outputs": [
        {
          "output_type": "stream",
          "name": "stdout",
          "text": [
            "Enter the first variable 10\n",
            "Enter the second variable 20\n",
            "First variable value after swapping : 20\n",
            "Second variable value after swapping : 10\n"
          ]
        }
      ]
    },
    {
      "cell_type": "markdown",
      "metadata": {
        "id": "03jb4GZsBkBS"
      },
      "source": [
        "(3) Write a Python program to calculate the length of a string."
      ]
    },
    {
      "cell_type": "code",
      "execution_count": 1,
      "metadata": {
        "id": "YaGLbSHHB8Ej",
        "colab": {
          "base_uri": "https://localhost:8080/"
        },
        "outputId": "5ec3736a-f2e2-4d9c-ac18-f967cedbafdc"
      },
      "outputs": [
        {
          "output_type": "stream",
          "name": "stdout",
          "text": [
            "Enter a string: unt\n",
            "The length of the string is: 3\n"
          ]
        }
      ],
      "source": [
        "input_string = input(\"Enter a string: \")\n",
        "\n",
        "# Calculate the length of the string\n",
        "string_length = len(input_string)\n",
        "\n",
        "# Display the length of the string\n",
        "print(f\"The length of the string is: {string_length}\")\n"
      ]
    },
    {
      "cell_type": "markdown",
      "metadata": {
        "id": "jJDe71iLB616"
      },
      "source": [
        "(4) Write a Python program to count the number of characters in a string.\n",
        "\n",
        "Sample String : 'google.com‘,\n",
        "\n",
        "Expected Result : {'o': 3, 'g': 2, '.': 1, 'e': 1, 'l': 1, 'm': 1, 'c': 1}"
      ]
    },
    {
      "cell_type": "code",
      "execution_count": 10,
      "metadata": {
        "id": "MtKskTzbCLaU",
        "colab": {
          "base_uri": "https://localhost:8080/"
        },
        "outputId": "71b3fb7e-e9e5-4d35-d807-54ab37207598"
      },
      "outputs": [
        {
          "output_type": "stream",
          "name": "stdout",
          "text": [
            "Enter a string google.com\n",
            "Character counts:\n",
            "{'g': 2, 'o': 3, 'l': 1, 'e': 1, '.': 1, 'c': 1, 'm': 1}\n"
          ]
        }
      ],
      "source": [
        "str = input(\"Enter a string \")\n",
        "char_count = {}\n",
        "for char in str:\n",
        "    if char in char_count:\n",
        "        char_count[char] += 1\n",
        "    else:\n",
        "        char_count[char] = 1\n",
        "print(\"Character counts:\")\n",
        "print(char_count)\n"
      ]
    },
    {
      "cell_type": "markdown",
      "metadata": {
        "id": "55W9AMdXCSpV"
      },
      "source": [
        "(5) Write a Python program to sum all the items in a list."
      ]
    },
    {
      "cell_type": "code",
      "execution_count": 11,
      "metadata": {
        "id": "I57NXsauCec2",
        "colab": {
          "base_uri": "https://localhost:8080/"
        },
        "outputId": "0b3c198f-0093-47cc-fa22-7afc5639ef3a"
      },
      "outputs": [
        {
          "output_type": "stream",
          "name": "stdout",
          "text": [
            "Enter a list of numbers 10 15 25 100\n",
            "The sum of numbers in the list is 150.0\n"
          ]
        }
      ],
      "source": [
        "list1 = input(\"Enter a list of numbers \").split()\n",
        "nums = [float(item) for item in list1]\n",
        "\n",
        "total = sum(nums)\n",
        "\n",
        "print(f\"The sum of numbers in the list is {total}\")\n"
      ]
    },
    {
      "cell_type": "markdown",
      "metadata": {
        "id": "4ulBZ6yhCi9F"
      },
      "source": [
        "(6) Write a Python program to get a string from a given string where all occurrences of its first char have been changed to '\\$', except the first char itself.\n",
        "\n",
        "Sample String : 'restart‘,\n",
        "\n",
        "Expected Result : 'resta\\$t'"
      ]
    },
    {
      "cell_type": "code",
      "execution_count": 14,
      "metadata": {
        "id": "Fj0XhwbBCw2o",
        "colab": {
          "base_uri": "https://localhost:8080/"
        },
        "outputId": "9006137b-cbe3-4ab1-b8dc-3deebbcd7afe"
      },
      "outputs": [
        {
          "output_type": "stream",
          "name": "stdout",
          "text": [
            "Enter a string: restart\n",
            "The modified string is resta$t\n"
          ]
        }
      ],
      "source": [
        "input_str = input(\"Enter a string \")\n",
        "\n",
        "first_char = input_str[0]\n",
        "\n",
        "new_str = first_char + input_str[1:].replace(first_char, '$')\n",
        "\n",
        "print(f\"The modified string is {new_str}\")\n"
      ]
    },
    {
      "cell_type": "markdown",
      "source": [
        "(7) Create a program that calculates the factorial of a number using a while loop."
      ],
      "metadata": {
        "id": "qVXA3q7ET5JI"
      }
    },
    {
      "cell_type": "code",
      "source": [
        "num = int(input(\"Enter a number \"))\n",
        "\n",
        "factorial = 1\n",
        "fact = num\n",
        "\n",
        "while fact > 1:\n",
        "    factorial *= fact\n",
        "    fact -= 1\n",
        "\n",
        "print(f\"The factorial of {num} is {factorial}\")"
      ],
      "metadata": {
        "id": "Lbt7R6UkT7BA",
        "colab": {
          "base_uri": "https://localhost:8080/"
        },
        "outputId": "4fa84e7b-0cef-4117-9a8c-7b8ee99e75d9"
      },
      "execution_count": 16,
      "outputs": [
        {
          "output_type": "stream",
          "name": "stdout",
          "text": [
            "Enter a number 10\n",
            "The factorial of 10 is 3628800\n"
          ]
        }
      ]
    },
    {
      "cell_type": "markdown",
      "source": [
        "(8) Create a program that takes a list of numbers as input and outputs a new list with only the even numbers."
      ],
      "metadata": {
        "id": "6YfbzXMNT--R"
      }
    },
    {
      "cell_type": "code",
      "source": [
        "list1 = input(\"Enter a list of numbers \").split()\n",
        "\n",
        "nums = [int(item) for item in list1]\n",
        "\n",
        "even_nums = [num for num in nums if num % 2 == 0]\n",
        "\n",
        "print(\"Even numbers\")\n",
        "print(even_nums)"
      ],
      "metadata": {
        "id": "54q7wMQPUAKu",
        "colab": {
          "base_uri": "https://localhost:8080/"
        },
        "outputId": "8e337e6a-25a3-4dd3-836d-827e07d137c8"
      },
      "execution_count": 17,
      "outputs": [
        {
          "output_type": "stream",
          "name": "stdout",
          "text": [
            "Enter a list of numbers 1 2 3 4 5 6\n",
            "Even numbers\n",
            "[2, 4, 6]\n"
          ]
        }
      ]
    },
    {
      "cell_type": "markdown",
      "metadata": {
        "id": "_bIP7s1MCzue"
      },
      "source": [
        "(9) Write a program with python which could accept two parameter a and b to calculate and output the result of S, where\n",
        "\n",
        "$\\ S=3.14*(1+a/b)^3$\n",
        "\n"
      ]
    },
    {
      "cell_type": "code",
      "execution_count": 18,
      "metadata": {
        "id": "w79QilHXD3Mg",
        "colab": {
          "base_uri": "https://localhost:8080/"
        },
        "outputId": "0bafd776-1e60-4f84-c78a-beceb122fb76"
      },
      "outputs": [
        {
          "output_type": "stream",
          "name": "stdout",
          "text": [
            "Enter the value of a 3\n",
            "Enter the value of b 7\n",
            "The value of S is 9.15451895043732\n"
          ]
        }
      ],
      "source": [
        "a = float(input(\"Enter the value of a \"))\n",
        "b = float(input(\"Enter the value of b \"))\n",
        "\n",
        "S = 3.14 * (1 + a / b)**3\n",
        "\n",
        "print(f\"The value of S is {S}\")\n"
      ]
    },
    {
      "cell_type": "markdown",
      "metadata": {
        "id": "xCa2bK9aD4Q3"
      },
      "source": [
        "(10) Write a Python program to concatenate following dictionaries to create a new one.\n",
        "\n",
        "Sample Dictionary : dic1={1:10, 2:20}, dic2={3:30, 4:40}, dic3={5:50,6:60},\n",
        "\n",
        "Expected Result : {1: 10, 2: 20, 3: 30, 4: 40, 5: 50, 6: 60}\n"
      ]
    },
    {
      "cell_type": "code",
      "execution_count": 20,
      "metadata": {
        "id": "_z4aLqAbEET1",
        "colab": {
          "base_uri": "https://localhost:8080/"
        },
        "outputId": "202a5229-b4d5-4f85-f7b1-89003e7c7c4e"
      },
      "outputs": [
        {
          "output_type": "stream",
          "name": "stdout",
          "text": [
            "Combined dictionary\n",
            "{1: 10, 2: 20, 3: 30, 4: 40, 5: 50, 6: 60}\n"
          ]
        }
      ],
      "source": [
        "dic1 = {1: 10, 2: 20}\n",
        "dic2 = {3: 30, 4: 40}\n",
        "dic3 = {5: 50, 6: 60}\n",
        "\n",
        "combined = {**dic1, **dic2, **dic3}\n",
        "\n",
        "print(\"Combined dictionary\")\n",
        "print(combined)\n"
      ]
    },
    {
      "cell_type": "markdown",
      "source": [
        "(11) Write a Python function that accepts a tuple of integers and returns the largest and smallest elements."
      ],
      "metadata": {
        "id": "bkyZ2xSZUOst"
      }
    },
    {
      "cell_type": "code",
      "source": [
        "def find_largest_smallest(nums):\n",
        "    if not nums:\n",
        "        return None, None\n",
        "\n",
        "    smallest = largest = nums[0]\n",
        "\n",
        "    for num in nums:\n",
        "        if num < smallest:\n",
        "            smallest = num\n",
        "        if num > largest:\n",
        "            largest = num\n",
        "\n",
        "    return smallest, largest\n",
        "\n",
        "input_tuple = tuple(map(int, input(\"Enter a tuple of integers separated by spaces: \").split()))\n",
        "\n",
        "smallest, largest = find_largest_smallest(input_tuple)\n",
        "\n",
        "if smallest is None or largest is None:\n",
        "    print(\"The tuple is empty.\")\n",
        "else:\n",
        "    print(f\"The smallest element is {smallest}\")\n",
        "    print(f\"The largest element is {largest}\")\n",
        "\n",
        "\n",
        "\n",
        "\n",
        "\n"
      ],
      "metadata": {
        "id": "3FdLRBKOUQEd",
        "colab": {
          "base_uri": "https://localhost:8080/"
        },
        "outputId": "92cddf76-4c3c-457b-ea8f-746a2a6d74c2"
      },
      "execution_count": 23,
      "outputs": [
        {
          "output_type": "stream",
          "name": "stdout",
          "text": [
            "Enter a tuple of integers separated by spaces: 1 10 5 6 11\n",
            "The smallest element is 1\n",
            "The largest element is 11\n"
          ]
        }
      ]
    },
    {
      "cell_type": "markdown",
      "source": [
        "(12) Write a Python program that counts the frequency of each character in a given string and stores it in a dictionary."
      ],
      "metadata": {
        "id": "O0TVi3gKUTpp"
      }
    },
    {
      "cell_type": "code",
      "source": [
        "def count_char_frequency(input_str):\n",
        "    char_frequency = {}\n",
        "\n",
        "    for char in input_str:\n",
        "        if char in char_frequency:\n",
        "            char_frequency[char] += 1\n",
        "        else:\n",
        "            char_frequency[char] = 1\n",
        "\n",
        "    return char_frequency\n",
        "\n",
        "input_str = input(\"Enter a string \")\n",
        "frequency_dict = count_char_frequency(input_str)\n",
        "print(\"Character frequency\")\n",
        "print(frequency_dict)"
      ],
      "metadata": {
        "id": "lAtfSfZXUU-h",
        "colab": {
          "base_uri": "https://localhost:8080/"
        },
        "outputId": "0abdc417-8d0d-4211-ba0d-00f19fed4078"
      },
      "execution_count": 24,
      "outputs": [
        {
          "output_type": "stream",
          "name": "stdout",
          "text": [
            "Enter a string google.com\n",
            "Character frequency\n",
            "{'g': 2, 'o': 3, 'l': 1, 'e': 1, '.': 1, 'c': 1, 'm': 1}\n"
          ]
        }
      ]
    },
    {
      "cell_type": "markdown",
      "metadata": {
        "id": "0v48Vqa7FrQh"
      },
      "source": [
        "(13) Write a Python program to check whether an element exists within a tuple."
      ]
    },
    {
      "cell_type": "code",
      "execution_count": 26,
      "metadata": {
        "id": "7WEmgq-DF2P1",
        "colab": {
          "base_uri": "https://localhost:8080/"
        },
        "outputId": "88d880ca-afe4-462b-d738-fd2962e6bd72"
      },
      "outputs": [
        {
          "output_type": "stream",
          "name": "stdout",
          "text": [
            "Enter a tuple of elements1 4 7 9 10\n",
            "Enter the element to check3\n",
            "'3' does not exist in the tuple.\n"
          ]
        }
      ],
      "source": [
        "def element_exists(element, input_tuple):\n",
        "    return element in input_tuple\n",
        "\n",
        "input_tuple = tuple(input(\"Enter a tuple of elements\").split())\n",
        "\n",
        "element_to_check = input(\"Enter the element to check\")\n",
        "\n",
        "if element_exists(element_to_check, input_tuple):\n",
        "    print(f\"'{element_to_check}' exists in the tuple.\")\n",
        "else:\n",
        "    print(f\"'{element_to_check}' does not exist in the tuple.\")\n"
      ]
    },
    {
      "cell_type": "markdown",
      "metadata": {
        "id": "vD5PYLMuGga_"
      },
      "source": [
        "(14) Write a Python program to find maximum and the minimum value in a set."
      ]
    },
    {
      "cell_type": "code",
      "execution_count": 27,
      "metadata": {
        "id": "t0D5kdJUGjjw",
        "colab": {
          "base_uri": "https://localhost:8080/"
        },
        "outputId": "18a167c9-ed83-4125-a60f-08fa4f01b21a"
      },
      "outputs": [
        {
          "output_type": "stream",
          "name": "stdout",
          "text": [
            "Enter a set of numbers 1 4 3 2 9\n",
            "The maximum value in the set is: 9.0\n",
            "The minimum value in the set is: 1.0\n"
          ]
        }
      ],
      "source": [
        "set1 = set(map(float, input(\"Enter a set of numbers \").split()))\n",
        "\n",
        "if not set1:\n",
        "    print(\"The set is empty.\")\n",
        "else:\n",
        "    max_value = max(set1)\n",
        "    min_value = min(set1)\n",
        "\n",
        "    # Display the maximum and minimum values\n",
        "    print(f\"The maximum value is {max_value}\")\n",
        "    print(f\"The minimum value is {min_value}\")\n"
      ]
    },
    {
      "cell_type": "markdown",
      "metadata": {
        "id": "uHkd-y5VhVWC"
      },
      "source": [
        "(15) Write a Python program to randomly divide the students in this class into six groups for term projects, each group should have at least 4 students but no more than 6 students (including 6). Here is the students list:\n",
        "student_list_fall_2023=['sb1826' ,\n",
        " 'lb0582' ,\n",
        " 'ab1820' ,\n",
        " 'sb1883' ,\n",
        " 'mb1296' ,\n",
        " 'sc1622' ,\n",
        " 'tc0469' ,\n",
        " 'ac1770' ,\n",
        " 'mc1453' ,\n",
        " 'ad1187' ,\n",
        " 'sd0926' ,\n",
        " 'sd1268' ,\n",
        " 'ag1609' ,\n",
        " 'sg1638' ,\n",
        " 'mg1299' ,\n",
        " 'vkk0022' ,\n",
        " 'bk0413' ,\n",
        " 'gk0257' ,\n",
        " 'am2807' ,\n",
        " 'gm0558' ,\n",
        " 'pm0658' ,\n",
        " 'am2346' ,\n",
        " 'rm1090' ,\n",
        " 'sm2364' ,\n",
        " 'sm2747' ,\n",
        " 'sm2343' ,\n",
        " 'vm0597' ,\n",
        " 'htn0086' ,\n",
        " 'sp2075' ,\n",
        " 'gp0306' ,\n",
        " 'lp0502' ,\n",
        " 'sr1508' ,\n",
        " 'vr0331' ,\n",
        " 'yr0180' ,\n",
        " 'as2819' ,\n",
        " 'ss2981' ,\n",
        " 'ns0756' ,\n",
        " 'mt0825' ,\n",
        " 'dt0463' ,\n",
        " 'su0137' ,\n",
        " 'dv0310'\n",
        "]"
      ]
    },
    {
      "cell_type": "code",
      "execution_count": 3,
      "metadata": {
        "id": "3iGbmcOBhTwy",
        "colab": {
          "base_uri": "https://localhost:8080/"
        },
        "outputId": "8f84c9e0-49c8-468e-8719-1384176371fd"
      },
      "outputs": [
        {
          "output_type": "stream",
          "name": "stdout",
          "text": [
            "Group 1: vkk0022, tc0469, mc1453, sd0926, mb1296, sb1826\n",
            "Group 2: vr0331, am2807, ac1770, bk0413, sm2747, vm0597\n",
            "Group 3: sm2343, sg1638, ss2981, gp0306, sr1508, ab1820\n",
            "Group 4: sb1883, ad1187, sm2364, sp2075, sd1268, sc1622\n",
            "Group 5: yr0180, htn0086, dv0310, pm0658, gm0558, ns0756\n",
            "Group 6: am2346, rm1090, gk0257, as2819, su0137, mt0825\n",
            "Group 7: mg1299, lb0582, lp0502, dt0463, ag1609\n"
          ]
        }
      ],
      "source": [
        "import random\n",
        "\n",
        "student_list_fall_2023 = ['sb1826', 'lb0582', 'ab1820', 'sb1883', 'mb1296', 'sc1622', 'tc0469', 'ac1770', 'mc1453',\n",
        "                          'ad1187', 'sd0926', 'sd1268', 'ag1609', 'sg1638', 'mg1299', 'vkk0022', 'bk0413', 'gk0257',\n",
        "                          'am2807', 'gm0558', 'pm0658', 'am2346', 'rm1090', 'sm2364', 'sm2747', 'sm2343', 'vm0597',\n",
        "                          'htn0086', 'sp2075', 'gp0306', 'lp0502', 'sr1508', 'vr0331', 'yr0180', 'as2819', 'ss2981',\n",
        "                          'ns0756', 'mt0825', 'dt0463', 'su0137', 'dv0310']\n",
        "\n",
        "random.shuffle(student_list_fall_2023)\n",
        "\n",
        "min_size_of_group = 4\n",
        "max_size_of_group = 6\n",
        "num_groups = int(len(student_list_fall_2023) // min_size_of_group)\n",
        "\n",
        "groups = [student_list_fall_2023[i:i + max_size_of_group] for i in range(0, len(student_list_fall_2023), max_size_of_group)]\n",
        "\n",
        "for i, group in enumerate(groups):\n",
        "    print(f\"Group {i + 1}: {', '.join(group)}\")\n"
      ]
    },
    {
      "cell_type": "markdown",
      "metadata": {
        "id": "fmZ9vX20Qs3d"
      },
      "source": [
        "(16) Write a Python program to find the duplicate elements in a given array of integers. Return -1 If there are no such elements."
      ]
    },
    {
      "cell_type": "code",
      "execution_count": 29,
      "metadata": {
        "id": "W8Jw6sWMQs3d",
        "colab": {
          "base_uri": "https://localhost:8080/"
        },
        "outputId": "e8d2b6bc-7774-4b3a-a606-5d25e4c3de91"
      },
      "outputs": [
        {
          "output_type": "stream",
          "name": "stdout",
          "text": [
            "Enter an array of integers separated by spaces: 5 6 7 5 4\n",
            "Duplicate elements: {5}\n"
          ]
        }
      ],
      "source": [
        "def find_duplicate_elements(arr):\n",
        "    dupe = set()\n",
        "    duplicates = set()\n",
        "\n",
        "    for num in arr:\n",
        "        if num in dupe:\n",
        "            duplicates.add(num)\n",
        "        else:\n",
        "            dupe.add(num)\n",
        "\n",
        "    return duplicates if duplicates else -1\n",
        "\n",
        "input_array = list(map(int, input(\"Enter an array of integers separated by spaces: \").split()))\n",
        "\n",
        "result = find_duplicate_elements(input_array)\n",
        "if result == -1:\n",
        "    print(\"There are no duplicate elements.\")\n",
        "else:\n",
        "    print(\"Duplicate elements:\", result)\n"
      ]
    },
    {
      "cell_type": "markdown",
      "metadata": {
        "id": "hvq4APMhQs3d"
      },
      "source": [
        "(17) Write a Python program to select all the Sundays of a specified year."
      ]
    },
    {
      "cell_type": "code",
      "execution_count": 30,
      "metadata": {
        "id": "ZnoxhSglQs3d",
        "colab": {
          "base_uri": "https://localhost:8080/"
        },
        "outputId": "9c8abf15-8f1c-4445-b456-8c11dfe016ab"
      },
      "outputs": [
        {
          "output_type": "stream",
          "name": "stdout",
          "text": [
            "Enter the year: 2001\n",
            "Sundays in 2001:\n",
            "2001-01-07\n",
            "2001-01-14\n",
            "2001-01-21\n",
            "2001-01-28\n",
            "2001-02-04\n",
            "2001-02-11\n",
            "2001-02-18\n",
            "2001-02-25\n",
            "2001-03-04\n",
            "2001-03-11\n",
            "2001-03-18\n",
            "2001-03-25\n",
            "2001-04-01\n",
            "2001-04-08\n",
            "2001-04-15\n",
            "2001-04-22\n",
            "2001-04-29\n",
            "2001-05-06\n",
            "2001-05-13\n",
            "2001-05-20\n",
            "2001-05-27\n",
            "2001-06-03\n",
            "2001-06-10\n",
            "2001-06-17\n",
            "2001-06-24\n",
            "2001-07-01\n",
            "2001-07-08\n",
            "2001-07-15\n",
            "2001-07-22\n",
            "2001-07-29\n",
            "2001-08-05\n",
            "2001-08-12\n",
            "2001-08-19\n",
            "2001-08-26\n",
            "2001-09-02\n",
            "2001-09-09\n",
            "2001-09-16\n",
            "2001-09-23\n",
            "2001-09-30\n",
            "2001-10-07\n",
            "2001-10-14\n",
            "2001-10-21\n",
            "2001-10-28\n",
            "2001-11-04\n",
            "2001-11-11\n",
            "2001-11-18\n",
            "2001-11-25\n",
            "2001-12-02\n",
            "2001-12-09\n",
            "2001-12-16\n",
            "2001-12-23\n",
            "2001-12-30\n"
          ]
        }
      ],
      "source": [
        "import datetime\n",
        "\n",
        "def select_sundays(year):\n",
        "    sundays = []\n",
        "    date = datetime.date(year, 1, 1)\n",
        "    delta = datetime.timedelta(days=1)\n",
        "\n",
        "    while date.year == year:\n",
        "        if date.weekday() == 6:\n",
        "            sundays.append(date.strftime('%Y-%m-%d'))\n",
        "        date += delta\n",
        "\n",
        "    return sundays\n",
        "\n",
        "year = int(input(\"Enter the year: \"))\n",
        "\n",
        "sundays = select_sundays(year)\n",
        "\n",
        "print(f\"Sundays in {year}:\")\n",
        "for sunday in sundays:\n",
        "    print(sunday)\n"
      ]
    },
    {
      "cell_type": "markdown",
      "source": [
        "(18) Build a program that calculates the factorial of a given positive integer. The factorial of a non-negative integer n is the product of all positive integers less than or equal to n."
      ],
      "metadata": {
        "id": "55FWoSJPVVM6"
      }
    },
    {
      "cell_type": "code",
      "source": [
        "def fact(n):\n",
        "    if n == 0 or n == 1:\n",
        "        return 1\n",
        "    else:\n",
        "        return n * fact(n - 1)\n",
        "\n",
        "num = int(input(\"Enter a positive integer \"))\n",
        "\n",
        "if num < 0:\n",
        "    print(\"Wrong input\")\n",
        "else:\n",
        "    result = fact(num)\n",
        "    print(f\"The factorial of {num} is {result}\")\n"
      ],
      "metadata": {
        "id": "hwtr1wZmVX5A",
        "colab": {
          "base_uri": "https://localhost:8080/"
        },
        "outputId": "0da3920f-e8d2-4822-b0de-f6a342b66456"
      },
      "execution_count": 31,
      "outputs": [
        {
          "output_type": "stream",
          "name": "stdout",
          "text": [
            "Enter a positive integer 5\n",
            "The factorial of 5 is 120\n"
          ]
        }
      ]
    },
    {
      "cell_type": "markdown",
      "source": [
        "(19) Write a program that takes a positive integer n as input and prints the count of even numbers from 1 to n. Use a loop to iterate through the numbers and utilize the break statement to optimize the loop."
      ],
      "metadata": {
        "id": "Q9ecagcaVazW"
      }
    },
    {
      "cell_type": "code",
      "source": [
        "def count_even_numbers(n):\n",
        "    count = 0\n",
        "    for num in range(1, n + 1):\n",
        "        if num % 2 == 0:\n",
        "            count += 1\n",
        "        elif num > n:\n",
        "            break\n",
        "    return count\n",
        "\n",
        "num = int(input(\"Enter a number\"))\n",
        "\n",
        "if num < 1:\n",
        "    print(\"Please enter a positive integer.\")\n",
        "else:\n",
        "    result = count_even_numbers(num)\n",
        "    print(f\"The count of even numbers from 1 to {num} is {result}\")\n"
      ],
      "metadata": {
        "id": "gycgckoAVZjR",
        "colab": {
          "base_uri": "https://localhost:8080/"
        },
        "outputId": "051b637d-ce39-4971-cdeb-53ba995234c4"
      },
      "execution_count": 32,
      "outputs": [
        {
          "output_type": "stream",
          "name": "stdout",
          "text": [
            "Enter a number67\n",
            "The count of even numbers from 1 to 67 is 33\n"
          ]
        }
      ]
    },
    {
      "cell_type": "markdown",
      "source": [
        "(20) Write a Python function called count_vowels that takes a string as input and returns the count of vowels (both lowercase and uppercase) present in the string. Consider the vowels to be 'a', 'e', 'i', 'o', and 'u'. Ignore spaces and other non-alphabetic characters."
      ],
      "metadata": {
        "id": "cboAr5pEWUf5"
      }
    },
    {
      "cell_type": "code",
      "source": [
        "def count_vowels(input_str):\n",
        "    vowels = 'aeiouAEIOU'\n",
        "    count = 0\n",
        "\n",
        "    for char in input_str:\n",
        "        if char in vowels:\n",
        "            count += 1\n",
        "\n",
        "    return count\n",
        "\n",
        "input_string = input(\"Enter a string \")\n",
        "\n",
        "vowels_count = count_vowels(input_string)\n",
        "\n",
        "print(f\"The count of vowels in the string is: {vowels_count}\")\n"
      ],
      "metadata": {
        "id": "phs9gciMWWAW",
        "colab": {
          "base_uri": "https://localhost:8080/"
        },
        "outputId": "fd8dfa0f-b259-4dcd-c730-89ee6b85d059"
      },
      "execution_count": 33,
      "outputs": [
        {
          "output_type": "stream",
          "name": "stdout",
          "text": [
            "Enter a string computational\n",
            "The count of vowels in the string is: 6\n"
          ]
        }
      ]
    },
    {
      "cell_type": "code",
      "source": [],
      "metadata": {
        "id": "IyORCsDhwHJz"
      },
      "execution_count": null,
      "outputs": []
    }
  ],
  "metadata": {
    "colab": {
      "provenance": [],
      "include_colab_link": true
    },
    "kernelspec": {
      "display_name": "Python 3 (ipykernel)",
      "language": "python",
      "name": "python3"
    },
    "language_info": {
      "codemirror_mode": {
        "name": "ipython",
        "version": 3
      },
      "file_extension": ".py",
      "mimetype": "text/x-python",
      "name": "python",
      "nbconvert_exporter": "python",
      "pygments_lexer": "ipython3",
      "version": "3.9.12"
    }
  },
  "nbformat": 4,
  "nbformat_minor": 0
}