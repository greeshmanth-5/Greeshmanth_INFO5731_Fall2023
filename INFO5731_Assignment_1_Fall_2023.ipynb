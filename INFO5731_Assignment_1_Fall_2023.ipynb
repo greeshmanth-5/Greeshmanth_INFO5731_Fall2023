{
  "cells": [
    {
      "cell_type": "markdown",
      "metadata": {
        "id": "view-in-github",
        "colab_type": "text"
      },
      "source": [
        "<a href=\"https://colab.research.google.com/github/greeshmanth-5/Greeshmanth_INFO5731_Fall2023/blob/main/INFO5731_Assignment_1_Fall_2023.ipynb\" target=\"_parent\"><img src=\"https://colab.research.google.com/assets/colab-badge.svg\" alt=\"Open In Colab\"/></a>"
      ]
    },
    {
      "cell_type": "markdown",
      "metadata": {
        "id": "Ryk8D1Q4Wsrp"
      },
      "source": [
        "# **INFO5731 Assignment One**"
      ]
    },
    {
      "cell_type": "markdown",
      "metadata": {
        "id": "90_NR8c5XGWc"
      },
      "source": [
        "# Question 1\n",
        "\n",
        "(20 points). Write a Python program to generate 12 random numbers between 1 and 100. Sort the list of numbers in ascending order and print it out. Sort the list of numbers in descending order and print it out. Calculate the average for the group and print it out."
      ]
    },
    {
      "cell_type": "code",
      "execution_count": null,
      "metadata": {
        "id": "5QX6bJjGWXY9",
        "colab": {
          "base_uri": "https://localhost:8080/"
        },
        "outputId": "a6d877b7-b2ea-4773-af14-dd37c28b229b"
      },
      "outputs": [
        {
          "output_type": "stream",
          "name": "stdout",
          "text": [
            "Random Numbers: [94, 69, 53, 61, 69, 71, 93, 70, 23, 87, 66, 31]\n",
            "Ascending Order: [23, 31, 53, 61, 66, 69, 69, 70, 71, 87, 93, 94]\n",
            "Descending Order: [94, 93, 87, 71, 70, 69, 69, 66, 61, 53, 31, 23]\n",
            "Average: 65.58333333333333\n"
          ]
        }
      ],
      "source": [
        "import random\n",
        "\n",
        "# Generate 12 random numbers between 1 and 100\n",
        "random_numbers = [random.randint(1, 100) for _ in range(12)]\n",
        "\n",
        "# Sort the list in ascending order\n",
        "ascending_order = sorted(random_numbers)\n",
        "\n",
        "# Sort the list in descending order\n",
        "descending_order = sorted(random_numbers, reverse=True)\n",
        "\n",
        "# Calculate the average\n",
        "average = sum(random_numbers) / len(random_numbers)\n",
        "\n",
        "# Print the results\n",
        "print(\"Random Numbers:\", random_numbers)\n",
        "print(\"Ascending Order:\", ascending_order)\n",
        "print(\"Descending Order:\", descending_order)\n",
        "print(\"Average:\", average)\n"
      ]
    },
    {
      "cell_type": "markdown",
      "metadata": {
        "id": "1F_PZdH9Sh49"
      },
      "source": [
        "# Question 2\n",
        "(25 points).\n",
        "\n",
        "Write a program that will do the following string formatting tasks:\n",
        "\n",
        "(1) Ask the user to enter two sentences.\n",
        "\n",
        "(2) Make each sentence into a list. Each element in the list should correspond to a word in the sentence. For example, if the sentence is \"Alas! Am I alive? This is my first python program\", the program should print out ['Alas, '!', 'Am', 'I', 'alive, '?', 'This', 'is', 'my', 'first', 'python', 'program'].\n",
        "\n",
        "(3) Compare the two sentences. Print out a list of words that occur in both sentences.\n",
        "\n",
        "(4) Remove any punctuation from the sentence and print it back out. It should remove at least the following characters, but it can remove more: period(“.”), comma (“,”), semicolon (“;”), and colon (“:”)\n",
        "\n",
        "(5) Count the number of vowels in the sentences. Print out each vowel and the number of times it appears in the sentences, such as: a:2, e:1, i:0, etc"
      ]
    },
    {
      "cell_type": "code",
      "execution_count": null,
      "metadata": {
        "id": "Y0oOSlsOS0cq",
        "colab": {
          "base_uri": "https://localhost:8080/"
        },
        "outputId": "f543d3ba-27a9-480f-8148-24fdafe94d58"
      },
      "outputs": [
        {
          "output_type": "stream",
          "name": "stdout",
          "text": [
            "Enter the first sentence: This is an interesting curse\n",
            "Enter the second sentence: Course is Taught by Dr.Chen\n",
            "\n",
            "Words in Sentence 1: ['This', 'is', 'an', 'interesting', 'curse']\n",
            "Words in Sentence 2: ['Course', 'is', 'Taught', 'by', 'Dr.Chen']\n",
            "\n",
            "Common Words: ['is']\n",
            "\n",
            "Sentence 1 without Punctuation: This is an interesting curse\n",
            "Sentence 2 without Punctuation: Course is Taught by DrChen\n",
            "\n",
            "Vowel Counts in Sentence 1: {'a': 1, 'e': 3, 'i': 4, 'o': 0, 'u': 1, 'A': 0, 'E': 0, 'I': 0, 'O': 0, 'U': 0}\n",
            "Vowel Counts in Sentence 2: {'a': 1, 'e': 2, 'i': 1, 'o': 1, 'u': 2, 'A': 0, 'E': 0, 'I': 0, 'O': 0, 'U': 0}\n"
          ]
        }
      ],
      "source": [
        "import string\n",
        "\n",
        "# Function to remove punctuation from a sentence\n",
        "def remove_punctuation(sentence):\n",
        "    translator = str.maketrans('', '', string.punctuation)\n",
        "    return sentence.translate(translator)\n",
        "\n",
        "# Function to count vowels in a sentence\n",
        "def count_vowels(sentence):\n",
        "    vowels = \"aeiouAEIOU\"\n",
        "    vowel_counts = {vowel: 0 for vowel in vowels}\n",
        "\n",
        "    for char in sentence:\n",
        "        if char in vowel_counts:\n",
        "            vowel_counts[char] += 1\n",
        "\n",
        "    return vowel_counts\n",
        "\n",
        "# Step 1: Ask the user to enter two sentences\n",
        "sentence1 = input(\"Enter the first sentence: \")\n",
        "sentence2 = input(\"Enter the second sentence: \")\n",
        "\n",
        "# Step 2: Split each sentence into a list of words\n",
        "sentence1_words = sentence1.split()\n",
        "sentence2_words = sentence2.split()\n",
        "\n",
        "# Step 3: Find common words in both sentences\n",
        "common_words = list(set(sentence1_words) & set(sentence2_words))\n",
        "\n",
        "# Step 4: Remove punctuation from the sentences\n",
        "sentence1_no_punctuation = remove_punctuation(sentence1)\n",
        "sentence2_no_punctuation = remove_punctuation(sentence2)\n",
        "\n",
        "# Step 5: Count vowels in the sentences\n",
        "vowel_counts1 = count_vowels(sentence1)\n",
        "vowel_counts2 = count_vowels(sentence2)\n",
        "\n",
        "# Print the results\n",
        "print(\"\\nWords in Sentence 1:\", sentence1_words)\n",
        "print(\"Words in Sentence 2:\", sentence2_words)\n",
        "print(\"\\nCommon Words:\", common_words)\n",
        "print(\"\\nSentence 1 without Punctuation:\", sentence1_no_punctuation)\n",
        "print(\"Sentence 2 without Punctuation:\", sentence2_no_punctuation)\n",
        "print(\"\\nVowel Counts in Sentence 1:\", vowel_counts1)\n",
        "print(\"Vowel Counts in Sentence 2:\", vowel_counts2)\n",
        "\n",
        "\n",
        "\n"
      ]
    },
    {
      "cell_type": "markdown",
      "metadata": {
        "id": "CmFoI4jDS9nx"
      },
      "source": [
        "# Question 3\n",
        "\n",
        "(15 points). The formula that describes the volume V of a sphere with radius r is the following:\n",
        "\n",
        "$ V=\\frac{4}{3}\\ast\\ \\pi\\ast\\ r^3 $\n",
        "\n",
        "Write a program to calculate the value of V when r is in the range of 1–10. Output the result in the following format:\n",
        "\n",
        "\tr\tV\n",
        "\t1\t…\n",
        "\t2\t…\n",
        "\t3\t…\n"
      ]
    },
    {
      "cell_type": "code",
      "execution_count": null,
      "metadata": {
        "id": "pEyqeioAT95b",
        "colab": {
          "base_uri": "https://localhost:8080/"
        },
        "outputId": "243435d0-a861-418a-8231-dc7d07c82bca"
      },
      "outputs": [
        {
          "output_type": "stream",
          "name": "stdout",
          "text": [
            "r    V\n",
            "1    4.19\n",
            "2    33.51\n",
            "3    113.10\n",
            "4    268.08\n",
            "5    523.60\n",
            "6    904.78\n",
            "7    1436.76\n",
            "8    2144.66\n",
            "9    3053.63\n",
            "10    4188.79\n"
          ]
        }
      ],
      "source": [
        "\n",
        "import math\n",
        "\n",
        "# Print the header\n",
        "print(\"r    V\")\n",
        "\n",
        "# Iterate over the range of radii (1 to 10)\n",
        "for r in range(1, 11):\n",
        "    # Calculate the volume using the formula\n",
        "    V = (4/3) * math.pi * r**3\n",
        "\n",
        "    # Print the radius and volume in the specified format\n",
        "    print(f\"{r}    {V:.2f}\")"
      ]
    },
    {
      "cell_type": "markdown",
      "metadata": {
        "id": "z3tBE7E-Xn5X"
      },
      "source": [
        "# Question 4\n",
        "\n",
        "(40 points). In the field of Data Science, data is often formatted as a comma-delimited (CSV) file, where each line in a file corresponds to a field's value. Refer to Chapter 9 (p. 106) for more information on comma-delimited files. To answer this question, you will need to download the file [Assignment1_denton_housing.csv](https://raw.githubusercontent.com/unt-iialab/info5731-spring2022/main/assignments/Assignment1_denton_housing.csv) included with this assignment. The file [Assignment1_denton_housing.csv](https://raw.githubusercontent.com/unt-iialab/info5731-spring2022/main/assignments/Assignment1_denton_housing.csv) contains statistics about housing in the city of Denton from 2008 to 2014. Write a program to implement the following questions.\n",
        "\n",
        "(1) (10 pts) Calculate the difference in the number of Occupied Housing Units from year to year and print it. The difference must be calculated for the consecutive years such as 2008-2009, 2009-2010 etc. Finally, print the values in the ascending order.\n",
        "\n",
        "(2) (10 pts) For all the years, calculate the percentage of housing units which are vacant an occupied. Print the results in the following format:\n",
        "\n",
        "Year Vacant Housing Units Occupied Housing Units\n",
        "\n",
        "    2008  30%   70%                          \n",
        "\t2009 ----- -----\n",
        "\t2010 ----- -----\n",
        "    2011 ----- -----\n",
        "\t2012 ----- -----\n",
        "    2013 ----- -----\n",
        "\t2014 ----- -----\n",
        "  \n",
        "  \n",
        "\n",
        "(3) (10 pts) Calculate and print the valued and years in which the highest number of housing units were vacant and occupied. Print the results in the following format:  \n",
        "\n",
        "                              Year\tValue\n",
        "\tVacant Housing Units\t  -----   -----\n",
        "\tOccupied Housing Units\t-----   -----\n",
        "\n",
        "(4) (10 pts) Calculate the harmonic mean of the total housing units and print it out. You can find the information about harmonic mean here: https://ncalculators.com/statistics/harmonic-mean-calculator.htm"
      ]
    },
    {
      "cell_type": "code",
      "execution_count": 6,
      "metadata": {
        "colab": {
          "base_uri": "https://localhost:8080/"
        },
        "id": "CO2QdDgFAd0m",
        "outputId": "f6b1d46c-27b3-4fdc-e8f8-84b692a76f05"
      },
      "outputs": [
        {
          "output_type": "stream",
          "name": "stdout",
          "text": [
            "(1) Difference in Occupied Housing Units (Year-Year):\n",
            "2008-2009: -795\n",
            "2009-2010: 5091\n",
            "2010-2011: -303\n",
            "2011-2012: 1404\n",
            "2012-2013: 1565\n",
            "2013-2014: 2622\n",
            "\n",
            "(2) Percentage of Vacant and Occupied Housing Units:\n",
            "Year Vacant Housing Units Occupied Housing Units\n",
            "2008 10.88% 89.12%\n",
            "2009 9.07% 90.93%\n",
            "2010 8.14% 91.86%\n",
            "2011 9.38% 90.62%\n",
            "2012 6.68% 93.32%\n",
            "2013 8.80% 91.20%\n",
            "2014 5.73% 94.27%\n",
            "\n",
            "(3) Years with Highest Number of Housing Units:\n",
            "Year    Value\n",
            "Vacant Housing Units      2008    4483\n",
            "Occupied Housing Units    2014    46295\n",
            "\n",
            "(4) Harmonic Mean of Total Housing Units:\n",
            "Harmonic Mean: 44398.29\n"
          ]
        }
      ],
      "source": [
        "import csv\n",
        "import statistics\n",
        "\n",
        "# Initialize variables to store data\n",
        "data = []\n",
        "\n",
        "# Read data from the CSV file\n",
        "with open('Assignment1_denton_housing.csv', 'r') as csv_file:\n",
        "    csv_reader = csv.DictReader(csv_file)\n",
        "    for row in csv_reader:\n",
        "        data.append(row)\n",
        "\n",
        "# (1) Calculate the difference in the number of Occupied Housing Units year to year\n",
        "occupied_diff = {}\n",
        "years = sorted(set(row['year'] for row in data))\n",
        "for i in range(1, len(years)):\n",
        "    year1 = years[i - 1]\n",
        "    year2 = years[i]\n",
        "    diff = int(next(row['value'] for row in data if row['year'] == year2 and row['title_field'] == 'Occupied Housing Units')) - int(next(row['value'] for row in data if row['year'] == year1 and row['title_field'] == 'Occupied Housing Units'))\n",
        "    occupied_diff[f\"{year1}-{year2}\"] = diff\n",
        "\n",
        "# Print the differences in ascending order\n",
        "print(\"(1) Difference in Occupied Housing Units (Year-Year):\")\n",
        "for year_diff, diff in sorted(occupied_diff.items()):\n",
        "    print(f\"{year_diff}: {diff}\")\n",
        "\n",
        "# (2) Calculate the percentage of vacant and occupied housing units for all years\n",
        "print(\"\\n(2) Percentage of Vacant and Occupied Housing Units:\")\n",
        "print(\"Year Vacant Housing Units Occupied Housing Units\")\n",
        "for year in years:\n",
        "    vacant = int(next(row['value'] for row in data if row['year'] == year and row['title_field'] == 'Vacant Housing Units'))\n",
        "    occupied = int(next(row['value'] for row in data if row['year'] == year and row['title_field'] == 'Occupied Housing Units'))\n",
        "    total = vacant + occupied\n",
        "    vacant_percent = (vacant / total) * 100\n",
        "    occupied_percent = (occupied / total) * 100\n",
        "    print(f\"{year} {vacant_percent:.2f}% {occupied_percent:.2f}%\")\n",
        "\n",
        "# (3) Find the years with the highest number of vacant and occupied housing units\n",
        "max_vacant = max(int(row['value']) for row in data if row['title_field'] == 'Vacant Housing Units')\n",
        "year_max_vacant = next(row['year'] for row in data if row['value'] == str(max_vacant) and row['title_field'] == 'Vacant Housing Units')\n",
        "\n",
        "max_occupied = max(int(row['value']) for row in data if row['title_field'] == 'Occupied Housing Units')\n",
        "year_max_occupied = next(row['year'] for row in data if row['value'] == str(max_occupied) and row['title_field'] == 'Occupied Housing Units')\n",
        "\n",
        "print(\"\\n(3) Years with Highest Number of Housing Units:\")\n",
        "print(\"Year    Value\")\n",
        "print(f\"Vacant Housing Units      {year_max_vacant}    {max_vacant}\")\n",
        "print(f\"Occupied Housing Units    {year_max_occupied}    {max_occupied}\")\n",
        "\n",
        "# (4) Calculate the harmonic mean of total housing units\n",
        "total_units = [int(row['value']) for row in data if row['title_field'] == 'Total Housing Units']\n",
        "harmonic_mean = statistics.harmonic_mean(total_units)\n",
        "\n",
        "print(\"\\n(4) Harmonic Mean of Total Housing Units:\")\n",
        "print(f\"Harmonic Mean: {harmonic_mean:.2f}\")\n"
      ]
    },
    {
      "cell_type": "code",
      "execution_count": null,
      "metadata": {
        "id": "g-xcGl9WAd0m"
      },
      "outputs": [],
      "source": []
    }
  ],
  "metadata": {
    "colab": {
      "provenance": [],
      "include_colab_link": true
    },
    "kernelspec": {
      "display_name": "Python 3 (ipykernel)",
      "language": "python",
      "name": "python3"
    },
    "language_info": {
      "codemirror_mode": {
        "name": "ipython",
        "version": 3
      },
      "file_extension": ".py",
      "mimetype": "text/x-python",
      "name": "python",
      "nbconvert_exporter": "python",
      "pygments_lexer": "ipython3",
      "version": "3.9.12"
    }
  },
  "nbformat": 4,
  "nbformat_minor": 0
}